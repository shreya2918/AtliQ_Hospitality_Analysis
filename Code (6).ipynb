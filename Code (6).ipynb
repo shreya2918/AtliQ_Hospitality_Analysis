{
 "cells": [
  {
   "cell_type": "code",
   "execution_count": 739,
   "id": "059e8f1a-20b2-40ce-a5a7-86f3d8b44328",
   "metadata": {},
   "outputs": [],
   "source": [
    "import numpy as np\n",
    "import pandas as pd\n",
    "import matplotlib.pyplot as plt\n",
    "import seaborn as sns"
   ]
  },
  {
   "cell_type": "code",
   "execution_count": 740,
   "id": "5a974d2c-62b1-4ccd-a280-7080039289f6",
   "metadata": {},
   "outputs": [],
   "source": [
    "#Reading fact_bookings.csv file\n",
    "\n",
    "df_book = pd.read_csv(\"Datasets/fact_bookings.csv\")"
   ]
  },
  {
   "cell_type": "code",
   "execution_count": 741,
   "id": "65f800fe-bc89-4d06-aba4-a178a57b93a9",
   "metadata": {},
   "outputs": [
    {
     "data": {
      "text/html": [
       "<div>\n",
       "<style scoped>\n",
       "    .dataframe tbody tr th:only-of-type {\n",
       "        vertical-align: middle;\n",
       "    }\n",
       "\n",
       "    .dataframe tbody tr th {\n",
       "        vertical-align: top;\n",
       "    }\n",
       "\n",
       "    .dataframe thead th {\n",
       "        text-align: right;\n",
       "    }\n",
       "</style>\n",
       "<table border=\"1\" class=\"dataframe\">\n",
       "  <thead>\n",
       "    <tr style=\"text-align: right;\">\n",
       "      <th></th>\n",
       "      <th>booking_id</th>\n",
       "      <th>property_id</th>\n",
       "      <th>booking_date</th>\n",
       "      <th>check_in_date</th>\n",
       "      <th>checkout_date</th>\n",
       "      <th>no_guests</th>\n",
       "      <th>room_category</th>\n",
       "      <th>booking_platform</th>\n",
       "      <th>ratings_given</th>\n",
       "      <th>booking_status</th>\n",
       "      <th>revenue_generated</th>\n",
       "      <th>revenue_realized</th>\n",
       "    </tr>\n",
       "  </thead>\n",
       "  <tbody>\n",
       "    <tr>\n",
       "      <th>0</th>\n",
       "      <td>May012216558RT11</td>\n",
       "      <td>16558</td>\n",
       "      <td>2022-04-27</td>\n",
       "      <td>2022-05-01</td>\n",
       "      <td>2022-05-02</td>\n",
       "      <td>3</td>\n",
       "      <td>RT1</td>\n",
       "      <td>direct online</td>\n",
       "      <td>1.0</td>\n",
       "      <td>Checked Out</td>\n",
       "      <td>10010</td>\n",
       "      <td>10010</td>\n",
       "    </tr>\n",
       "    <tr>\n",
       "      <th>1</th>\n",
       "      <td>May012216558RT12</td>\n",
       "      <td>16558</td>\n",
       "      <td>2022-04-30</td>\n",
       "      <td>2022-05-01</td>\n",
       "      <td>2022-05-02</td>\n",
       "      <td>2</td>\n",
       "      <td>RT1</td>\n",
       "      <td>others</td>\n",
       "      <td>NaN</td>\n",
       "      <td>Cancelled</td>\n",
       "      <td>9100</td>\n",
       "      <td>3640</td>\n",
       "    </tr>\n",
       "    <tr>\n",
       "      <th>2</th>\n",
       "      <td>May012216558RT13</td>\n",
       "      <td>16558</td>\n",
       "      <td>2022-04-28</td>\n",
       "      <td>2022-05-01</td>\n",
       "      <td>2022-05-04</td>\n",
       "      <td>2</td>\n",
       "      <td>RT1</td>\n",
       "      <td>logtrip</td>\n",
       "      <td>5.0</td>\n",
       "      <td>Checked Out</td>\n",
       "      <td>9100</td>\n",
       "      <td>9100</td>\n",
       "    </tr>\n",
       "    <tr>\n",
       "      <th>3</th>\n",
       "      <td>May012216558RT14</td>\n",
       "      <td>16558</td>\n",
       "      <td>2022-04-28</td>\n",
       "      <td>2022-05-01</td>\n",
       "      <td>2022-05-02</td>\n",
       "      <td>2</td>\n",
       "      <td>RT1</td>\n",
       "      <td>others</td>\n",
       "      <td>NaN</td>\n",
       "      <td>Cancelled</td>\n",
       "      <td>9100</td>\n",
       "      <td>3640</td>\n",
       "    </tr>\n",
       "    <tr>\n",
       "      <th>4</th>\n",
       "      <td>May012216558RT15</td>\n",
       "      <td>16558</td>\n",
       "      <td>2022-04-27</td>\n",
       "      <td>2022-05-01</td>\n",
       "      <td>2022-05-02</td>\n",
       "      <td>4</td>\n",
       "      <td>RT1</td>\n",
       "      <td>direct online</td>\n",
       "      <td>5.0</td>\n",
       "      <td>Checked Out</td>\n",
       "      <td>10920</td>\n",
       "      <td>10920</td>\n",
       "    </tr>\n",
       "  </tbody>\n",
       "</table>\n",
       "</div>"
      ],
      "text/plain": [
       "         booking_id  property_id booking_date check_in_date checkout_date  \\\n",
       "0  May012216558RT11        16558   2022-04-27    2022-05-01    2022-05-02   \n",
       "1  May012216558RT12        16558   2022-04-30    2022-05-01    2022-05-02   \n",
       "2  May012216558RT13        16558   2022-04-28    2022-05-01    2022-05-04   \n",
       "3  May012216558RT14        16558   2022-04-28    2022-05-01    2022-05-02   \n",
       "4  May012216558RT15        16558   2022-04-27    2022-05-01    2022-05-02   \n",
       "\n",
       "   no_guests room_category booking_platform  ratings_given booking_status  \\\n",
       "0          3           RT1    direct online            1.0    Checked Out   \n",
       "1          2           RT1           others            NaN      Cancelled   \n",
       "2          2           RT1          logtrip            5.0    Checked Out   \n",
       "3          2           RT1           others            NaN      Cancelled   \n",
       "4          4           RT1    direct online            5.0    Checked Out   \n",
       "\n",
       "   revenue_generated  revenue_realized  \n",
       "0              10010             10010  \n",
       "1               9100              3640  \n",
       "2               9100              9100  \n",
       "3               9100              3640  \n",
       "4              10920             10920  "
      ]
     },
     "execution_count": 741,
     "metadata": {},
     "output_type": "execute_result"
    }
   ],
   "source": [
    "df_book.head()"
   ]
  },
  {
   "cell_type": "code",
   "execution_count": 742,
   "id": "dbd53f4d-b232-416d-b2db-bfa10f062695",
   "metadata": {},
   "outputs": [
    {
     "data": {
      "text/plain": [
       "(134590, 12)"
      ]
     },
     "execution_count": 742,
     "metadata": {},
     "output_type": "execute_result"
    }
   ],
   "source": [
    "df_book.shape"
   ]
  },
  {
   "cell_type": "code",
   "execution_count": 743,
   "id": "d1eade1d-989a-4eba-8689-aaa690b6545e",
   "metadata": {},
   "outputs": [
    {
     "data": {
      "text/plain": [
       "array(['RT1', 'RT2', 'RT3', 'RT4'], dtype=object)"
      ]
     },
     "execution_count": 743,
     "metadata": {},
     "output_type": "execute_result"
    }
   ],
   "source": [
    "#to remove duplicates\n",
    "\n",
    "df_book.room_category.unique()"
   ]
  },
  {
   "cell_type": "code",
   "execution_count": 744,
   "id": "b79d5cf8-6c98-4fa8-97f5-05d22eadfc13",
   "metadata": {},
   "outputs": [
    {
     "data": {
      "text/plain": [
       "array(['direct online', 'others', 'logtrip', 'tripster', 'makeyourtrip',\n",
       "       'journey', 'direct offline'], dtype=object)"
      ]
     },
     "execution_count": 744,
     "metadata": {},
     "output_type": "execute_result"
    }
   ],
   "source": [
    "df_book.booking_platform.unique()"
   ]
  },
  {
   "cell_type": "code",
   "execution_count": 745,
   "id": "0c3ea680-fa1b-4cc9-b3e0-8bc9f4911988",
   "metadata": {},
   "outputs": [
    {
     "data": {
      "text/plain": [
       "booking_platform\n",
       "others            55066\n",
       "makeyourtrip      26898\n",
       "logtrip           14756\n",
       "direct online     13379\n",
       "tripster           9630\n",
       "journey            8106\n",
       "direct offline     6755\n",
       "Name: count, dtype: int64"
      ]
     },
     "execution_count": 745,
     "metadata": {},
     "output_type": "execute_result"
    }
   ],
   "source": [
    "#counting unique booking platforms\n",
    "\n",
    "df_book.booking_platform.value_counts()"
   ]
  },
  {
   "cell_type": "code",
   "execution_count": 746,
   "id": "dc258498-ab5c-4df0-90fd-9f826fde8f98",
   "metadata": {},
   "outputs": [
    {
     "data": {
      "text/plain": [
       "<Axes: xlabel='booking_platform'>"
      ]
     },
     "execution_count": 746,
     "metadata": {},
     "output_type": "execute_result"
    },
    {
     "data": {
      "image/png": "[encoded data removed]",
      "text/plain": [
       "<Figure size 640x480 with 1 Axes>"
      ]
     },
     "metadata": {},
     "output_type": "display_data"
    }
   ],
   "source": [
    "df_book.booking_platform.value_counts().plot(kind=\"bar\")"
   ]
  },
  {
   "cell_type": "code",
   "execution_count": 747,
   "id": "b94b93e0-9aad-4a24-a4fa-96b3c808e885",
   "metadata": {},
   "outputs": [
    {
     "data": {
      "text/html": [
       "<div>\n",
       "<style scoped>\n",
       "    .dataframe tbody tr th:only-of-type {\n",
       "        vertical-align: middle;\n",
       "    }\n",
       "\n",
       "    .dataframe tbody tr th {\n",
       "        vertical-align: top;\n",
       "    }\n",
       "\n",
       "    .dataframe thead th {\n",
       "        text-align: right;\n",
       "    }\n",
       "</style>\n",
       "<table border=\"1\" class=\"dataframe\">\n",
       "  <thead>\n",
       "    <tr style=\"text-align: right;\">\n",
       "      <th></th>\n",
       "      <th>property_id</th>\n",
       "      <th>no_guests</th>\n",
       "      <th>ratings_given</th>\n",
       "      <th>revenue_generated</th>\n",
       "      <th>revenue_realized</th>\n",
       "    </tr>\n",
       "  </thead>\n",
       "  <tbody>\n",
       "    <tr>\n",
       "      <th>count</th>\n",
       "      <td>134590.000000</td>\n",
       "      <td>134590.000000</td>\n",
       "      <td>56683.000000</td>\n",
       "      <td>134590.000000</td>\n",
       "      <td>134590.000000</td>\n",
       "    </tr>\n",
       "    <tr>\n",
       "      <th>mean</th>\n",
       "      <td>18061.113493</td>\n",
       "      <td>2.036808</td>\n",
       "      <td>3.619004</td>\n",
       "      <td>14916.013188</td>\n",
       "      <td>12696.123256</td>\n",
       "    </tr>\n",
       "    <tr>\n",
       "      <th>std</th>\n",
       "      <td>1093.055847</td>\n",
       "      <td>1.031766</td>\n",
       "      <td>1.235009</td>\n",
       "      <td>6452.868072</td>\n",
       "      <td>6928.108124</td>\n",
       "    </tr>\n",
       "    <tr>\n",
       "      <th>min</th>\n",
       "      <td>16558.000000</td>\n",
       "      <td>1.000000</td>\n",
       "      <td>1.000000</td>\n",
       "      <td>6500.000000</td>\n",
       "      <td>2600.000000</td>\n",
       "    </tr>\n",
       "    <tr>\n",
       "      <th>25%</th>\n",
       "      <td>17558.000000</td>\n",
       "      <td>1.000000</td>\n",
       "      <td>3.000000</td>\n",
       "      <td>9900.000000</td>\n",
       "      <td>7600.000000</td>\n",
       "    </tr>\n",
       "    <tr>\n",
       "      <th>50%</th>\n",
       "      <td>17564.000000</td>\n",
       "      <td>2.000000</td>\n",
       "      <td>4.000000</td>\n",
       "      <td>13500.000000</td>\n",
       "      <td>11700.000000</td>\n",
       "    </tr>\n",
       "    <tr>\n",
       "      <th>75%</th>\n",
       "      <td>18563.000000</td>\n",
       "      <td>2.000000</td>\n",
       "      <td>5.000000</td>\n",
       "      <td>18000.000000</td>\n",
       "      <td>15300.000000</td>\n",
       "    </tr>\n",
       "    <tr>\n",
       "      <th>max</th>\n",
       "      <td>19563.000000</td>\n",
       "      <td>6.000000</td>\n",
       "      <td>5.000000</td>\n",
       "      <td>45220.000000</td>\n",
       "      <td>45220.000000</td>\n",
       "    </tr>\n",
       "  </tbody>\n",
       "</table>\n",
       "</div>"
      ],
      "text/plain": [
       "         property_id      no_guests  ratings_given  revenue_generated  \\\n",
       "count  134590.000000  134590.000000   56683.000000      134590.000000   \n",
       "mean    18061.113493       2.036808       3.619004       14916.013188   \n",
       "std      1093.055847       1.031766       1.235009        6452.868072   \n",
       "min     16558.000000       1.000000       1.000000        6500.000000   \n",
       "25%     17558.000000       1.000000       3.000000        9900.000000   \n",
       "50%     17564.000000       2.000000       4.000000       13500.000000   \n",
       "75%     18563.000000       2.000000       5.000000       18000.000000   \n",
       "max     19563.000000       6.000000       5.000000       45220.000000   \n",
       "\n",
       "       revenue_realized  \n",
       "count     134590.000000  \n",
       "mean       12696.123256  \n",
       "std         6928.108124  \n",
       "min         2600.000000  \n",
       "25%         7600.000000  \n",
       "50%        11700.000000  \n",
       "75%        15300.000000  \n",
       "max        45220.000000  "
      ]
     },
     "execution_count": 747,
     "metadata": {},
     "output_type": "execute_result"
    }
   ],
   "source": [
    "df_book.describe()"
   ]
  },
  {
   "cell_type": "code",
   "execution_count": 748,
   "id": "090ba453-0be3-4b33-93a5-8b553481271e",
   "metadata": {},
   "outputs": [],
   "source": [
    "#Reading dim_date.csv file\n",
    "df_date = pd.read_csv('datasets/dim_date.csv')\n",
    "\n",
    "#Reading dim_hotels.csv file\n",
    "df_hotels = pd.read_csv('datasets/dim_hotels.csv')\n",
    "\n",
    "#Reading dim_rooms.csv file\n",
    "df_rooms = pd.read_csv('datasets/dim_rooms.csv')\n",
    "\n",
    "#Reading fact_aggregated_bookings.csv file\n",
    "df_agg_bookings = pd.read_csv('datasets/fact_aggregated_bookings.csv')"
   ]
  },
  {
   "cell_type": "code",
   "execution_count": 749,
   "id": "0f457c69-f575-465d-aa91-bf77a200a525",
   "metadata": {},
   "outputs": [],
   "source": [
    "#Working on dim_hotels.csv file"
   ]
  },
  {
   "cell_type": "code",
   "execution_count": 750,
   "id": "d5c529da-053a-4d5f-b07e-22eaadc500a1",
   "metadata": {},
   "outputs": [
    {
     "data": {
      "text/plain": [
       "(25, 4)"
      ]
     },
     "execution_count": 750,
     "metadata": {},
     "output_type": "execute_result"
    }
   ],
   "source": [
    "df_hotels.shape\n",
    "\n"
   ]
  },
  {
   "cell_type": "code",
   "execution_count": 751,
   "id": "f7172080-6194-422f-896a-a426adb58009",
   "metadata": {},
   "outputs": [
    {
     "data": {
      "text/html": [
       "<div>\n",
       "<style scoped>\n",
       "    .dataframe tbody tr th:only-of-type {\n",
       "        vertical-align: middle;\n",
       "    }\n",
       "\n",
       "    .dataframe tbody tr th {\n",
       "        vertical-align: top;\n",
       "    }\n",
       "\n",
       "    .dataframe thead th {\n",
       "        text-align: right;\n",
       "    }\n",
       "</style>\n",
       "<table border=\"1\" class=\"dataframe\">\n",
       "  <thead>\n",
       "    <tr style=\"text-align: right;\">\n",
       "      <th></th>\n",
       "      <th>property_id</th>\n",
       "      <th>property_name</th>\n",
       "      <th>category</th>\n",
       "      <th>city</th>\n",
       "    </tr>\n",
       "  </thead>\n",
       "  <tbody>\n",
       "    <tr>\n",
       "      <th>0</th>\n",
       "      <td>16558</td>\n",
       "      <td>Atliq Grands</td>\n",
       "      <td>Luxury</td>\n",
       "      <td>Delhi</td>\n",
       "    </tr>\n",
       "    <tr>\n",
       "      <th>1</th>\n",
       "      <td>16559</td>\n",
       "      <td>Atliq Exotica</td>\n",
       "      <td>Luxury</td>\n",
       "      <td>Mumbai</td>\n",
       "    </tr>\n",
       "    <tr>\n",
       "      <th>2</th>\n",
       "      <td>16560</td>\n",
       "      <td>Atliq City</td>\n",
       "      <td>Business</td>\n",
       "      <td>Delhi</td>\n",
       "    </tr>\n",
       "    <tr>\n",
       "      <th>3</th>\n",
       "      <td>16561</td>\n",
       "      <td>Atliq Blu</td>\n",
       "      <td>Luxury</td>\n",
       "      <td>Delhi</td>\n",
       "    </tr>\n",
       "    <tr>\n",
       "      <th>4</th>\n",
       "      <td>16562</td>\n",
       "      <td>Atliq Bay</td>\n",
       "      <td>Luxury</td>\n",
       "      <td>Delhi</td>\n",
       "    </tr>\n",
       "  </tbody>\n",
       "</table>\n",
       "</div>"
      ],
      "text/plain": [
       "   property_id  property_name  category    city\n",
       "0        16558   Atliq Grands    Luxury   Delhi\n",
       "1        16559  Atliq Exotica    Luxury  Mumbai\n",
       "2        16560     Atliq City  Business   Delhi\n",
       "3        16561      Atliq Blu    Luxury   Delhi\n",
       "4        16562      Atliq Bay    Luxury   Delhi"
      ]
     },
     "execution_count": 751,
     "metadata": {},
     "output_type": "execute_result"
    }
   ],
   "source": [
    "df_hotels.head()\n",
    "\n"
   ]
  },
  {
   "cell_type": "code",
   "execution_count": 752,
   "id": "8eb765a2-d607-4ce0-b7d2-39b55c4290f5",
   "metadata": {},
   "outputs": [
    {
     "data": {
      "text/plain": [
       "category\n",
       "Luxury      16\n",
       "Business     9\n",
       "Name: count, dtype: int64"
      ]
     },
     "execution_count": 752,
     "metadata": {},
     "output_type": "execute_result"
    }
   ],
   "source": [
    "df_hotels.category.value_counts()\n"
   ]
  },
  {
   "cell_type": "code",
   "execution_count": 753,
   "id": "a6945b0d-025c-4c10-9665-cbbdc1cc245b",
   "metadata": {},
   "outputs": [
    {
     "data": {
      "text/plain": [
       "<Axes: xlabel='city'>"
      ]
     },
     "execution_count": 753,
     "metadata": {},
     "output_type": "execute_result"
    },
    {
     "data": {
      "image/png": "[encoded data removed]",
      "text/plain": [
       "<Figure size 640x480 with 1 Axes>"
      ]
     },
     "metadata": {},
     "output_type": "display_data"
    }
   ],
   "source": [
    "df_hotels.city.value_counts().plot(kind=\"bar\")\n"
   ]
  },
  {
   "cell_type": "code",
   "execution_count": 754,
   "id": "882f75f9-098c-4ce4-95a3-f4a433f23441",
   "metadata": {},
   "outputs": [],
   "source": [
    "#DATA EXPLORATION"
   ]
  },
  {
   "cell_type": "code",
   "execution_count": null,
   "id": "1383a523-1db5-4d9a-bd14-e68424f747f3",
   "metadata": {},
   "outputs": [],
   "source": []
  },
  {
   "cell_type": "code",
   "execution_count": 755,
   "id": "e5ee0660-8a70-44df-87df-57a2baf9ed3e",
   "metadata": {},
   "outputs": [
    {
     "data": {
      "text/html": [
       "<div>\n",
       "<style scoped>\n",
       "    .dataframe tbody tr th:only-of-type {\n",
       "        vertical-align: middle;\n",
       "    }\n",
       "\n",
       "    .dataframe tbody tr th {\n",
       "        vertical-align: top;\n",
       "    }\n",
       "\n",
       "    .dataframe thead th {\n",
       "        text-align: right;\n",
       "    }\n",
       "</style>\n",
       "<table border=\"1\" class=\"dataframe\">\n",
       "  <thead>\n",
       "    <tr style=\"text-align: right;\">\n",
       "      <th></th>\n",
       "      <th>property_id</th>\n",
       "      <th>check_in_date</th>\n",
       "      <th>room_category</th>\n",
       "      <th>successful_bookings</th>\n",
       "      <th>capacity</th>\n",
       "    </tr>\n",
       "  </thead>\n",
       "  <tbody>\n",
       "    <tr>\n",
       "      <th>0</th>\n",
       "      <td>16559</td>\n",
       "      <td>01-May-22</td>\n",
       "      <td>RT1</td>\n",
       "      <td>25</td>\n",
       "      <td>30</td>\n",
       "    </tr>\n",
       "    <tr>\n",
       "      <th>1</th>\n",
       "      <td>19562</td>\n",
       "      <td>01-May-22</td>\n",
       "      <td>RT1</td>\n",
       "      <td>28</td>\n",
       "      <td>30</td>\n",
       "    </tr>\n",
       "    <tr>\n",
       "      <th>2</th>\n",
       "      <td>19563</td>\n",
       "      <td>01-May-22</td>\n",
       "      <td>RT1</td>\n",
       "      <td>23</td>\n",
       "      <td>30</td>\n",
       "    </tr>\n",
       "  </tbody>\n",
       "</table>\n",
       "</div>"
      ],
      "text/plain": [
       "   property_id check_in_date room_category  successful_bookings  capacity\n",
       "0        16559     01-May-22           RT1                   25        30\n",
       "1        19562     01-May-22           RT1                   28        30\n",
       "2        19563     01-May-22           RT1                   23        30"
      ]
     },
     "execution_count": 755,
     "metadata": {},
     "output_type": "execute_result"
    }
   ],
   "source": [
    "#Checking aggregated bookings\n",
    "\n",
    "df_agg_bookings.head(3)"
   ]
  },
  {
   "cell_type": "code",
   "execution_count": 756,
   "id": "392246f0-20d9-464b-85cd-54368fec5d2f",
   "metadata": {},
   "outputs": [
    {
     "data": {
      "text/plain": [
       "array([16559, 19562, 19563, 17558, 16558, 17560, 19558, 19560, 17561,\n",
       "       16560, 16561, 16562, 16563, 17559, 17562, 17563, 18558, 18559,\n",
       "       18561, 18562, 18563, 19559, 19561, 17564, 18560])"
      ]
     },
     "execution_count": 756,
     "metadata": {},
     "output_type": "execute_result"
    }
   ],
   "source": [
    "#exploring unique property ids in aggregated booking file\n",
    "\n",
    "df_agg_bookings.property_id.unique()"
   ]
  },
  {
   "cell_type": "code",
   "execution_count": 757,
   "id": "a51c21b5-cb3c-4371-9afb-027c19d775e0",
   "metadata": {},
   "outputs": [
    {
     "data": {
      "text/plain": [
       "property_id\n",
       "16558    3153\n",
       "16559    7338\n",
       "16560    4693\n",
       "16561    4418\n",
       "16562    4820\n",
       "16563    7147\n",
       "17558    5036\n",
       "17559    6142\n",
       "17560    6013\n",
       "17561    5183\n",
       "17562    3424\n",
       "17563    6337\n",
       "17564    3982\n",
       "18558    4475\n",
       "18559    5256\n",
       "18560    6638\n",
       "18561    6458\n",
       "18562    7333\n",
       "18563    4728\n",
       "19558    4371\n",
       "19559    4705\n",
       "19560    5979\n",
       "19561    5736\n",
       "19562    5812\n",
       "19563    5413\n",
       "Name: successful_bookings, dtype: int64"
      ]
     },
     "execution_count": 757,
     "metadata": {},
     "output_type": "execute_result"
    }
   ],
   "source": [
    "# total bookings per property_id\n",
    "\n",
    "df_agg_bookings.groupby(\"property_id\")[\"successful_bookings\"].sum()"
   ]
  },
  {
   "cell_type": "code",
   "execution_count": 758,
   "id": "ec883a04-6050-4a0f-8514-1bb1eb51c0d2",
   "metadata": {},
   "outputs": [
    {
     "data": {
      "text/html": [
       "<div>\n",
       "<style scoped>\n",
       "    .dataframe tbody tr th:only-of-type {\n",
       "        vertical-align: middle;\n",
       "    }\n",
       "\n",
       "    .dataframe tbody tr th {\n",
       "        vertical-align: top;\n",
       "    }\n",
       "\n",
       "    .dataframe thead th {\n",
       "        text-align: right;\n",
       "    }\n",
       "</style>\n",
       "<table border=\"1\" class=\"dataframe\">\n",
       "  <thead>\n",
       "    <tr style=\"text-align: right;\">\n",
       "      <th></th>\n",
       "      <th>property_id</th>\n",
       "      <th>check_in_date</th>\n",
       "      <th>room_category</th>\n",
       "      <th>successful_bookings</th>\n",
       "      <th>capacity</th>\n",
       "    </tr>\n",
       "  </thead>\n",
       "  <tbody>\n",
       "  </tbody>\n",
       "</table>\n",
       "</div>"
      ],
      "text/plain": [
       "Empty DataFrame\n",
       "Columns: [property_id, check_in_date, room_category, successful_bookings, capacity]\n",
       "Index: []"
      ]
     },
     "execution_count": 758,
     "metadata": {},
     "output_type": "execute_result"
    }
   ],
   "source": [
    "#Exploring days on which bookings are greater than capacity\n",
    "\n",
    "df_agg_bookings[df_agg_bookings.successful_bookings>df_agg_bookings.capacity]"
   ]
  },
  {
   "cell_type": "code",
   "execution_count": 759,
   "id": "e39e6ea8-91e6-4bf6-9017-e08403195ed6",
   "metadata": {},
   "outputs": [
    {
     "data": {
      "text/plain": [
       "np.int64(50)"
      ]
     },
     "execution_count": 759,
     "metadata": {},
     "output_type": "execute_result"
    }
   ],
   "source": [
    "# properties that have highest capacity\n",
    "\n",
    "df_agg_bookings.capacity.max()\n",
    "\n",
    "\n"
   ]
  },
  {
   "cell_type": "code",
   "execution_count": 760,
   "id": "a32912a6-0785-4ce4-88aa-5b5910e02219",
   "metadata": {},
   "outputs": [
    {
     "data": {
      "text/html": [
       "<div>\n",
       "<style scoped>\n",
       "    .dataframe tbody tr th:only-of-type {\n",
       "        vertical-align: middle;\n",
       "    }\n",
       "\n",
       "    .dataframe tbody tr th {\n",
       "        vertical-align: top;\n",
       "    }\n",
       "\n",
       "    .dataframe thead th {\n",
       "        text-align: right;\n",
       "    }\n",
       "</style>\n",
       "<table border=\"1\" class=\"dataframe\">\n",
       "  <thead>\n",
       "    <tr style=\"text-align: right;\">\n",
       "      <th></th>\n",
       "      <th>property_id</th>\n",
       "      <th>check_in_date</th>\n",
       "      <th>room_category</th>\n",
       "      <th>successful_bookings</th>\n",
       "      <th>capacity</th>\n",
       "    </tr>\n",
       "  </thead>\n",
       "  <tbody>\n",
       "    <tr>\n",
       "      <th>27</th>\n",
       "      <td>17558</td>\n",
       "      <td>01-May-22</td>\n",
       "      <td>RT2</td>\n",
       "      <td>38</td>\n",
       "      <td>50</td>\n",
       "    </tr>\n",
       "    <tr>\n",
       "      <th>128</th>\n",
       "      <td>17558</td>\n",
       "      <td>02-May-22</td>\n",
       "      <td>RT2</td>\n",
       "      <td>27</td>\n",
       "      <td>50</td>\n",
       "    </tr>\n",
       "    <tr>\n",
       "      <th>229</th>\n",
       "      <td>17558</td>\n",
       "      <td>03-May-22</td>\n",
       "      <td>RT2</td>\n",
       "      <td>26</td>\n",
       "      <td>50</td>\n",
       "    </tr>\n",
       "    <tr>\n",
       "      <th>328</th>\n",
       "      <td>17558</td>\n",
       "      <td>04-May-22</td>\n",
       "      <td>RT2</td>\n",
       "      <td>27</td>\n",
       "      <td>50</td>\n",
       "    </tr>\n",
       "    <tr>\n",
       "      <th>428</th>\n",
       "      <td>17558</td>\n",
       "      <td>05-May-22</td>\n",
       "      <td>RT2</td>\n",
       "      <td>29</td>\n",
       "      <td>50</td>\n",
       "    </tr>\n",
       "    <tr>\n",
       "      <th>...</th>\n",
       "      <td>...</td>\n",
       "      <td>...</td>\n",
       "      <td>...</td>\n",
       "      <td>...</td>\n",
       "      <td>...</td>\n",
       "    </tr>\n",
       "    <tr>\n",
       "      <th>8728</th>\n",
       "      <td>17558</td>\n",
       "      <td>27-Jul-22</td>\n",
       "      <td>RT2</td>\n",
       "      <td>22</td>\n",
       "      <td>50</td>\n",
       "    </tr>\n",
       "    <tr>\n",
       "      <th>8828</th>\n",
       "      <td>17558</td>\n",
       "      <td>28-Jul-22</td>\n",
       "      <td>RT2</td>\n",
       "      <td>21</td>\n",
       "      <td>50</td>\n",
       "    </tr>\n",
       "    <tr>\n",
       "      <th>8928</th>\n",
       "      <td>17558</td>\n",
       "      <td>29-Jul-22</td>\n",
       "      <td>RT2</td>\n",
       "      <td>23</td>\n",
       "      <td>50</td>\n",
       "    </tr>\n",
       "    <tr>\n",
       "      <th>9028</th>\n",
       "      <td>17558</td>\n",
       "      <td>30-Jul-22</td>\n",
       "      <td>RT2</td>\n",
       "      <td>32</td>\n",
       "      <td>50</td>\n",
       "    </tr>\n",
       "    <tr>\n",
       "      <th>9128</th>\n",
       "      <td>17558</td>\n",
       "      <td>31-Jul-22</td>\n",
       "      <td>RT2</td>\n",
       "      <td>30</td>\n",
       "      <td>50</td>\n",
       "    </tr>\n",
       "  </tbody>\n",
       "</table>\n",
       "<p>92 rows × 5 columns</p>\n",
       "</div>"
      ],
      "text/plain": [
       "      property_id check_in_date room_category  successful_bookings  capacity\n",
       "27          17558     01-May-22           RT2                   38        50\n",
       "128         17558     02-May-22           RT2                   27        50\n",
       "229         17558     03-May-22           RT2                   26        50\n",
       "328         17558     04-May-22           RT2                   27        50\n",
       "428         17558     05-May-22           RT2                   29        50\n",
       "...           ...           ...           ...                  ...       ...\n",
       "8728        17558     27-Jul-22           RT2                   22        50\n",
       "8828        17558     28-Jul-22           RT2                   21        50\n",
       "8928        17558     29-Jul-22           RT2                   23        50\n",
       "9028        17558     30-Jul-22           RT2                   32        50\n",
       "9128        17558     31-Jul-22           RT2                   30        50\n",
       "\n",
       "[92 rows x 5 columns]"
      ]
     },
     "execution_count": 760,
     "metadata": {},
     "output_type": "execute_result"
    }
   ],
   "source": [
    "df_agg_bookings[df_agg_bookings.capacity==df_agg_bookings.capacity.max()]\n"
   ]
  },
  {
   "cell_type": "code",
   "execution_count": 761,
   "id": "e7bcf847-39cd-481c-aa27-b35b734acd2b",
   "metadata": {},
   "outputs": [],
   "source": [
    "#DATA CLEANING"
   ]
  },
  {
   "cell_type": "code",
   "execution_count": null,
   "id": "c92feceb-745d-48c6-9d52-9c89f3677ee5",
   "metadata": {},
   "outputs": [],
   "source": []
  },
  {
   "cell_type": "code",
   "execution_count": 762,
   "id": "49013c3e-a488-4e81-be66-83229b9acc67",
   "metadata": {},
   "outputs": [
    {
     "data": {
      "text/html": [
       "<div>\n",
       "<style scoped>\n",
       "    .dataframe tbody tr th:only-of-type {\n",
       "        vertical-align: middle;\n",
       "    }\n",
       "\n",
       "    .dataframe tbody tr th {\n",
       "        vertical-align: top;\n",
       "    }\n",
       "\n",
       "    .dataframe thead th {\n",
       "        text-align: right;\n",
       "    }\n",
       "</style>\n",
       "<table border=\"1\" class=\"dataframe\">\n",
       "  <thead>\n",
       "    <tr style=\"text-align: right;\">\n",
       "      <th></th>\n",
       "      <th>property_id</th>\n",
       "      <th>no_guests</th>\n",
       "      <th>ratings_given</th>\n",
       "      <th>revenue_generated</th>\n",
       "      <th>revenue_realized</th>\n",
       "    </tr>\n",
       "  </thead>\n",
       "  <tbody>\n",
       "    <tr>\n",
       "      <th>count</th>\n",
       "      <td>134590.000000</td>\n",
       "      <td>134590.000000</td>\n",
       "      <td>56683.000000</td>\n",
       "      <td>134590.000000</td>\n",
       "      <td>134590.000000</td>\n",
       "    </tr>\n",
       "    <tr>\n",
       "      <th>mean</th>\n",
       "      <td>18061.113493</td>\n",
       "      <td>2.036808</td>\n",
       "      <td>3.619004</td>\n",
       "      <td>14916.013188</td>\n",
       "      <td>12696.123256</td>\n",
       "    </tr>\n",
       "    <tr>\n",
       "      <th>std</th>\n",
       "      <td>1093.055847</td>\n",
       "      <td>1.031766</td>\n",
       "      <td>1.235009</td>\n",
       "      <td>6452.868072</td>\n",
       "      <td>6928.108124</td>\n",
       "    </tr>\n",
       "    <tr>\n",
       "      <th>min</th>\n",
       "      <td>16558.000000</td>\n",
       "      <td>1.000000</td>\n",
       "      <td>1.000000</td>\n",
       "      <td>6500.000000</td>\n",
       "      <td>2600.000000</td>\n",
       "    </tr>\n",
       "    <tr>\n",
       "      <th>25%</th>\n",
       "      <td>17558.000000</td>\n",
       "      <td>1.000000</td>\n",
       "      <td>3.000000</td>\n",
       "      <td>9900.000000</td>\n",
       "      <td>7600.000000</td>\n",
       "    </tr>\n",
       "    <tr>\n",
       "      <th>50%</th>\n",
       "      <td>17564.000000</td>\n",
       "      <td>2.000000</td>\n",
       "      <td>4.000000</td>\n",
       "      <td>13500.000000</td>\n",
       "      <td>11700.000000</td>\n",
       "    </tr>\n",
       "    <tr>\n",
       "      <th>75%</th>\n",
       "      <td>18563.000000</td>\n",
       "      <td>2.000000</td>\n",
       "      <td>5.000000</td>\n",
       "      <td>18000.000000</td>\n",
       "      <td>15300.000000</td>\n",
       "    </tr>\n",
       "    <tr>\n",
       "      <th>max</th>\n",
       "      <td>19563.000000</td>\n",
       "      <td>6.000000</td>\n",
       "      <td>5.000000</td>\n",
       "      <td>45220.000000</td>\n",
       "      <td>45220.000000</td>\n",
       "    </tr>\n",
       "  </tbody>\n",
       "</table>\n",
       "</div>"
      ],
      "text/plain": [
       "         property_id      no_guests  ratings_given  revenue_generated  \\\n",
       "count  134590.000000  134590.000000   56683.000000      134590.000000   \n",
       "mean    18061.113493       2.036808       3.619004       14916.013188   \n",
       "std      1093.055847       1.031766       1.235009        6452.868072   \n",
       "min     16558.000000       1.000000       1.000000        6500.000000   \n",
       "25%     17558.000000       1.000000       3.000000        9900.000000   \n",
       "50%     17564.000000       2.000000       4.000000       13500.000000   \n",
       "75%     18563.000000       2.000000       5.000000       18000.000000   \n",
       "max     19563.000000       6.000000       5.000000       45220.000000   \n",
       "\n",
       "       revenue_realized  \n",
       "count     134590.000000  \n",
       "mean       12696.123256  \n",
       "std         6928.108124  \n",
       "min         2600.000000  \n",
       "25%         7600.000000  \n",
       "50%        11700.000000  \n",
       "75%        15300.000000  \n",
       "max        45220.000000  "
      ]
     },
     "execution_count": 762,
     "metadata": {},
     "output_type": "execute_result"
    }
   ],
   "source": [
    "df_book.describe()"
   ]
  },
  {
   "cell_type": "code",
   "execution_count": 763,
   "id": "2a906a2f-7912-4405-885e-0f147d8202f1",
   "metadata": {},
   "outputs": [
    {
     "data": {
      "text/html": [
       "<div>\n",
       "<style scoped>\n",
       "    .dataframe tbody tr th:only-of-type {\n",
       "        vertical-align: middle;\n",
       "    }\n",
       "\n",
       "    .dataframe tbody tr th {\n",
       "        vertical-align: top;\n",
       "    }\n",
       "\n",
       "    .dataframe thead th {\n",
       "        text-align: right;\n",
       "    }\n",
       "</style>\n",
       "<table border=\"1\" class=\"dataframe\">\n",
       "  <thead>\n",
       "    <tr style=\"text-align: right;\">\n",
       "      <th></th>\n",
       "      <th>booking_id</th>\n",
       "      <th>property_id</th>\n",
       "      <th>booking_date</th>\n",
       "      <th>check_in_date</th>\n",
       "      <th>checkout_date</th>\n",
       "      <th>no_guests</th>\n",
       "      <th>room_category</th>\n",
       "      <th>booking_platform</th>\n",
       "      <th>ratings_given</th>\n",
       "      <th>booking_status</th>\n",
       "      <th>revenue_generated</th>\n",
       "      <th>revenue_realized</th>\n",
       "    </tr>\n",
       "  </thead>\n",
       "  <tbody>\n",
       "  </tbody>\n",
       "</table>\n",
       "</div>"
      ],
      "text/plain": [
       "Empty DataFrame\n",
       "Columns: [booking_id, property_id, booking_date, check_in_date, checkout_date, no_guests, room_category, booking_platform, ratings_given, booking_status, revenue_generated, revenue_realized]\n",
       "Index: []"
      ]
     },
     "execution_count": 763,
     "metadata": {},
     "output_type": "execute_result"
    }
   ],
   "source": [
    "#Cleaning invalid data\n",
    "\n",
    "df_book[df_book.no_guests<=0]"
   ]
  },
  {
   "cell_type": "code",
   "execution_count": 764,
   "id": "d5395f49-e41c-4240-bab5-405bfbc88f17",
   "metadata": {},
   "outputs": [],
   "source": [
    "#removing unwanted and invalid guests\n",
    "\n",
    "df_bookings = df_book[df_book.no_guests>0]"
   ]
  },
  {
   "cell_type": "code",
   "execution_count": 765,
   "id": "b658f853-6e65-472e-9709-e5e76c7ff1da",
   "metadata": {},
   "outputs": [
    {
     "data": {
      "text/plain": [
       "(134590, 12)"
      ]
     },
     "execution_count": 765,
     "metadata": {},
     "output_type": "execute_result"
    }
   ],
   "source": [
    "df_bookings.shape"
   ]
  },
  {
   "cell_type": "code",
   "execution_count": 766,
   "id": "4c860252-92ae-429b-b815-064e4ea17aad",
   "metadata": {},
   "outputs": [
    {
     "data": {
      "text/plain": [
       "(np.int64(6500), np.int64(45220))"
      ]
     },
     "execution_count": 766,
     "metadata": {},
     "output_type": "execute_result"
    }
   ],
   "source": [
    "#outlier removal in the generated revenue\n",
    "\n",
    "df_bookings.revenue_generated.min(), df_bookings.revenue_generated.max()"
   ]
  },
  {
   "cell_type": "code",
   "execution_count": 767,
   "id": "da21112f-ae35-46d5-af69-d21c6f236a6f",
   "metadata": {},
   "outputs": [
    {
     "data": {
      "text/plain": [
       "(np.float64(14916.013188201203), np.float64(13500.0))"
      ]
     },
     "execution_count": 767,
     "metadata": {},
     "output_type": "execute_result"
    }
   ],
   "source": [
    "df_bookings.revenue_generated.mean(), df_bookings.revenue_generated.median()"
   ]
  },
  {
   "cell_type": "code",
   "execution_count": 768,
   "id": "bfb83d18-e18e-4bcf-9519-67111e90e066",
   "metadata": {},
   "outputs": [],
   "source": [
    "avg, std = df_bookings.revenue_generated.mean(), df_bookings.revenue_generated.std()"
   ]
  },
  {
   "cell_type": "code",
   "execution_count": 769,
   "id": "fa2752ef-6a0a-4645-a6c3-887b5c4ad1b6",
   "metadata": {},
   "outputs": [
    {
     "data": {
      "text/plain": [
       "np.float64(34274.61740350578)"
      ]
     },
     "execution_count": 769,
     "metadata": {},
     "output_type": "execute_result"
    }
   ],
   "source": [
    "higher_limit = avg + 3*std\n",
    "higher_limit"
   ]
  },
  {
   "cell_type": "code",
   "execution_count": 770,
   "id": "ed14ad23-6f61-4050-b97a-c98f477b69bd",
   "metadata": {},
   "outputs": [
    {
     "data": {
      "text/plain": [
       "np.float64(-4442.591027103368)"
      ]
     },
     "execution_count": 770,
     "metadata": {},
     "output_type": "execute_result"
    }
   ],
   "source": [
    "lower_limit = avg - 3*std\n",
    "lower_limit"
   ]
  },
  {
   "cell_type": "code",
   "execution_count": 771,
   "id": "5e82f9e9-3311-452a-ab7b-e07314e2659c",
   "metadata": {},
   "outputs": [
    {
     "data": {
      "text/html": [
       "<div>\n",
       "<style scoped>\n",
       "    .dataframe tbody tr th:only-of-type {\n",
       "        vertical-align: middle;\n",
       "    }\n",
       "\n",
       "    .dataframe tbody tr th {\n",
       "        vertical-align: top;\n",
       "    }\n",
       "\n",
       "    .dataframe thead th {\n",
       "        text-align: right;\n",
       "    }\n",
       "</style>\n",
       "<table border=\"1\" class=\"dataframe\">\n",
       "  <thead>\n",
       "    <tr style=\"text-align: right;\">\n",
       "      <th></th>\n",
       "      <th>booking_id</th>\n",
       "      <th>property_id</th>\n",
       "      <th>booking_date</th>\n",
       "      <th>check_in_date</th>\n",
       "      <th>checkout_date</th>\n",
       "      <th>no_guests</th>\n",
       "      <th>room_category</th>\n",
       "      <th>booking_platform</th>\n",
       "      <th>ratings_given</th>\n",
       "      <th>booking_status</th>\n",
       "      <th>revenue_generated</th>\n",
       "      <th>revenue_realized</th>\n",
       "    </tr>\n",
       "  </thead>\n",
       "  <tbody>\n",
       "  </tbody>\n",
       "</table>\n",
       "</div>"
      ],
      "text/plain": [
       "Empty DataFrame\n",
       "Columns: [booking_id, property_id, booking_date, check_in_date, checkout_date, no_guests, room_category, booking_platform, ratings_given, booking_status, revenue_generated, revenue_realized]\n",
       "Index: []"
      ]
     },
     "execution_count": 771,
     "metadata": {},
     "output_type": "execute_result"
    }
   ],
   "source": [
    "df_bookings[df_bookings.revenue_generated<=0]"
   ]
  },
  {
   "cell_type": "code",
   "execution_count": 772,
   "id": "4ed9ef10-ecb5-4d39-bb9e-1e38f16d0b89",
   "metadata": {},
   "outputs": [
    {
     "data": {
      "text/html": [
       "<div>\n",
       "<style scoped>\n",
       "    .dataframe tbody tr th:only-of-type {\n",
       "        vertical-align: middle;\n",
       "    }\n",
       "\n",
       "    .dataframe tbody tr th {\n",
       "        vertical-align: top;\n",
       "    }\n",
       "\n",
       "    .dataframe thead th {\n",
       "        text-align: right;\n",
       "    }\n",
       "</style>\n",
       "<table border=\"1\" class=\"dataframe\">\n",
       "  <thead>\n",
       "    <tr style=\"text-align: right;\">\n",
       "      <th></th>\n",
       "      <th>booking_id</th>\n",
       "      <th>property_id</th>\n",
       "      <th>booking_date</th>\n",
       "      <th>check_in_date</th>\n",
       "      <th>checkout_date</th>\n",
       "      <th>no_guests</th>\n",
       "      <th>room_category</th>\n",
       "      <th>booking_platform</th>\n",
       "      <th>ratings_given</th>\n",
       "      <th>booking_status</th>\n",
       "      <th>revenue_generated</th>\n",
       "      <th>revenue_realized</th>\n",
       "    </tr>\n",
       "  </thead>\n",
       "  <tbody>\n",
       "    <tr>\n",
       "      <th>137</th>\n",
       "      <td>May012216559RT41</td>\n",
       "      <td>16559</td>\n",
       "      <td>2022-04-27</td>\n",
       "      <td>2022-05-01</td>\n",
       "      <td>2022-05-07</td>\n",
       "      <td>4</td>\n",
       "      <td>RT4</td>\n",
       "      <td>others</td>\n",
       "      <td>NaN</td>\n",
       "      <td>Checked Out</td>\n",
       "      <td>38760</td>\n",
       "      <td>38760</td>\n",
       "    </tr>\n",
       "    <tr>\n",
       "      <th>139</th>\n",
       "      <td>May012216559RT43</td>\n",
       "      <td>16559</td>\n",
       "      <td>2022-05-01</td>\n",
       "      <td>2022-05-01</td>\n",
       "      <td>2022-05-02</td>\n",
       "      <td>6</td>\n",
       "      <td>RT4</td>\n",
       "      <td>tripster</td>\n",
       "      <td>3.0</td>\n",
       "      <td>Checked Out</td>\n",
       "      <td>45220</td>\n",
       "      <td>45220</td>\n",
       "    </tr>\n",
       "    <tr>\n",
       "      <th>143</th>\n",
       "      <td>May012216559RT47</td>\n",
       "      <td>16559</td>\n",
       "      <td>2022-04-28</td>\n",
       "      <td>2022-05-01</td>\n",
       "      <td>2022-05-03</td>\n",
       "      <td>3</td>\n",
       "      <td>RT4</td>\n",
       "      <td>others</td>\n",
       "      <td>5.0</td>\n",
       "      <td>Checked Out</td>\n",
       "      <td>35530</td>\n",
       "      <td>35530</td>\n",
       "    </tr>\n",
       "    <tr>\n",
       "      <th>149</th>\n",
       "      <td>May012216559RT413</td>\n",
       "      <td>16559</td>\n",
       "      <td>2022-04-24</td>\n",
       "      <td>2022-05-01</td>\n",
       "      <td>2022-05-07</td>\n",
       "      <td>5</td>\n",
       "      <td>RT4</td>\n",
       "      <td>logtrip</td>\n",
       "      <td>NaN</td>\n",
       "      <td>Checked Out</td>\n",
       "      <td>41990</td>\n",
       "      <td>41990</td>\n",
       "    </tr>\n",
       "    <tr>\n",
       "      <th>153</th>\n",
       "      <td>May012216559RT417</td>\n",
       "      <td>16559</td>\n",
       "      <td>2022-04-30</td>\n",
       "      <td>2022-05-01</td>\n",
       "      <td>2022-05-02</td>\n",
       "      <td>4</td>\n",
       "      <td>RT4</td>\n",
       "      <td>others</td>\n",
       "      <td>NaN</td>\n",
       "      <td>Cancelled</td>\n",
       "      <td>38760</td>\n",
       "      <td>15504</td>\n",
       "    </tr>\n",
       "    <tr>\n",
       "      <th>...</th>\n",
       "      <td>...</td>\n",
       "      <td>...</td>\n",
       "      <td>...</td>\n",
       "      <td>...</td>\n",
       "      <td>...</td>\n",
       "      <td>...</td>\n",
       "      <td>...</td>\n",
       "      <td>...</td>\n",
       "      <td>...</td>\n",
       "      <td>...</td>\n",
       "      <td>...</td>\n",
       "      <td>...</td>\n",
       "    </tr>\n",
       "    <tr>\n",
       "      <th>134467</th>\n",
       "      <td>Jul312219562RT45</td>\n",
       "      <td>19562</td>\n",
       "      <td>2022-07-28</td>\n",
       "      <td>2022-07-31</td>\n",
       "      <td>2022-08-01</td>\n",
       "      <td>6</td>\n",
       "      <td>RT4</td>\n",
       "      <td>makeyourtrip</td>\n",
       "      <td>4.0</td>\n",
       "      <td>Checked Out</td>\n",
       "      <td>39900</td>\n",
       "      <td>39900</td>\n",
       "    </tr>\n",
       "    <tr>\n",
       "      <th>134469</th>\n",
       "      <td>Jul312219562RT47</td>\n",
       "      <td>19562</td>\n",
       "      <td>2022-07-10</td>\n",
       "      <td>2022-07-31</td>\n",
       "      <td>2022-08-06</td>\n",
       "      <td>5</td>\n",
       "      <td>RT4</td>\n",
       "      <td>makeyourtrip</td>\n",
       "      <td>NaN</td>\n",
       "      <td>Cancelled</td>\n",
       "      <td>37050</td>\n",
       "      <td>14820</td>\n",
       "    </tr>\n",
       "    <tr>\n",
       "      <th>134474</th>\n",
       "      <td>Jul312219562RT412</td>\n",
       "      <td>19562</td>\n",
       "      <td>2022-07-25</td>\n",
       "      <td>2022-07-31</td>\n",
       "      <td>2022-08-06</td>\n",
       "      <td>5</td>\n",
       "      <td>RT4</td>\n",
       "      <td>direct offline</td>\n",
       "      <td>5.0</td>\n",
       "      <td>Checked Out</td>\n",
       "      <td>37050</td>\n",
       "      <td>37050</td>\n",
       "    </tr>\n",
       "    <tr>\n",
       "      <th>134581</th>\n",
       "      <td>Jul312217564RT42</td>\n",
       "      <td>17564</td>\n",
       "      <td>2022-07-31</td>\n",
       "      <td>2022-07-31</td>\n",
       "      <td>2022-08-01</td>\n",
       "      <td>4</td>\n",
       "      <td>RT4</td>\n",
       "      <td>makeyourtrip</td>\n",
       "      <td>4.0</td>\n",
       "      <td>Checked Out</td>\n",
       "      <td>38760</td>\n",
       "      <td>38760</td>\n",
       "    </tr>\n",
       "    <tr>\n",
       "      <th>134586</th>\n",
       "      <td>Jul312217564RT47</td>\n",
       "      <td>17564</td>\n",
       "      <td>2022-07-30</td>\n",
       "      <td>2022-07-31</td>\n",
       "      <td>2022-08-01</td>\n",
       "      <td>4</td>\n",
       "      <td>RT4</td>\n",
       "      <td>logtrip</td>\n",
       "      <td>2.0</td>\n",
       "      <td>Checked Out</td>\n",
       "      <td>38760</td>\n",
       "      <td>38760</td>\n",
       "    </tr>\n",
       "  </tbody>\n",
       "</table>\n",
       "<p>1520 rows × 12 columns</p>\n",
       "</div>"
      ],
      "text/plain": [
       "               booking_id  property_id booking_date check_in_date  \\\n",
       "137      May012216559RT41        16559   2022-04-27    2022-05-01   \n",
       "139      May012216559RT43        16559   2022-05-01    2022-05-01   \n",
       "143      May012216559RT47        16559   2022-04-28    2022-05-01   \n",
       "149     May012216559RT413        16559   2022-04-24    2022-05-01   \n",
       "153     May012216559RT417        16559   2022-04-30    2022-05-01   \n",
       "...                   ...          ...          ...           ...   \n",
       "134467   Jul312219562RT45        19562   2022-07-28    2022-07-31   \n",
       "134469   Jul312219562RT47        19562   2022-07-10    2022-07-31   \n",
       "134474  Jul312219562RT412        19562   2022-07-25    2022-07-31   \n",
       "134581   Jul312217564RT42        17564   2022-07-31    2022-07-31   \n",
       "134586   Jul312217564RT47        17564   2022-07-30    2022-07-31   \n",
       "\n",
       "       checkout_date  no_guests room_category booking_platform  ratings_given  \\\n",
       "137       2022-05-07          4           RT4           others            NaN   \n",
       "139       2022-05-02          6           RT4         tripster            3.0   \n",
       "143       2022-05-03          3           RT4           others            5.0   \n",
       "149       2022-05-07          5           RT4          logtrip            NaN   \n",
       "153       2022-05-02          4           RT4           others            NaN   \n",
       "...              ...        ...           ...              ...            ...   \n",
       "134467    2022-08-01          6           RT4     makeyourtrip            4.0   \n",
       "134469    2022-08-06          5           RT4     makeyourtrip            NaN   \n",
       "134474    2022-08-06          5           RT4   direct offline            5.0   \n",
       "134581    2022-08-01          4           RT4     makeyourtrip            4.0   \n",
       "134586    2022-08-01          4           RT4          logtrip            2.0   \n",
       "\n",
       "       booking_status  revenue_generated  revenue_realized  \n",
       "137       Checked Out              38760             38760  \n",
       "139       Checked Out              45220             45220  \n",
       "143       Checked Out              35530             35530  \n",
       "149       Checked Out              41990             41990  \n",
       "153         Cancelled              38760             15504  \n",
       "...               ...                ...               ...  \n",
       "134467    Checked Out              39900             39900  \n",
       "134469      Cancelled              37050             14820  \n",
       "134474    Checked Out              37050             37050  \n",
       "134581    Checked Out              38760             38760  \n",
       "134586    Checked Out              38760             38760  \n",
       "\n",
       "[1520 rows x 12 columns]"
      ]
     },
     "execution_count": 772,
     "metadata": {},
     "output_type": "execute_result"
    }
   ],
   "source": [
    "df_bookings[df_bookings.revenue_generated>higher_limit]"
   ]
  },
  {
   "cell_type": "code",
   "execution_count": 773,
   "id": "b966fdb1-3a7f-4dc8-89bd-fd2b838460b6",
   "metadata": {},
   "outputs": [
    {
     "data": {
      "text/plain": [
       "(133070, 12)"
      ]
     },
     "execution_count": 773,
     "metadata": {},
     "output_type": "execute_result"
    }
   ],
   "source": [
    "df_bookings = df_bookings[df_bookings.revenue_generated<=higher_limit]\n",
    "df_bookings.shape"
   ]
  },
  {
   "cell_type": "code",
   "execution_count": 774,
   "id": "4af12f5b-dcec-4493-a812-aa30c6c448e9",
   "metadata": {},
   "outputs": [
    {
     "data": {
      "text/plain": [
       "count    133070.000000\n",
       "mean      12468.775464\n",
       "std        6537.748605\n",
       "min        2600.000000\n",
       "25%        7600.000000\n",
       "50%       11400.000000\n",
       "75%       15300.000000\n",
       "max       34200.000000\n",
       "Name: revenue_realized, dtype: float64"
      ]
     },
     "execution_count": 774,
     "metadata": {},
     "output_type": "execute_result"
    }
   ],
   "source": [
    "df_bookings.revenue_realized.describe()"
   ]
  },
  {
   "cell_type": "code",
   "execution_count": 775,
   "id": "59b71857-a8f0-4332-97d0-79eaa0989572",
   "metadata": {},
   "outputs": [
    {
     "data": {
      "text/plain": [
       "np.float64(32082.021279985467)"
      ]
     },
     "execution_count": 775,
     "metadata": {},
     "output_type": "execute_result"
    }
   ],
   "source": [
    "higher_limit = df_bookings.revenue_realized.mean() + 3*df_bookings.revenue_realized.std()\n",
    "higher_limit"
   ]
  },
  {
   "cell_type": "code",
   "execution_count": 776,
   "id": "234ea707-8c96-4097-b1b9-6ae509284b00",
   "metadata": {},
   "outputs": [
    {
     "data": {
      "text/html": [
       "<div>\n",
       "<style scoped>\n",
       "    .dataframe tbody tr th:only-of-type {\n",
       "        vertical-align: middle;\n",
       "    }\n",
       "\n",
       "    .dataframe tbody tr th {\n",
       "        vertical-align: top;\n",
       "    }\n",
       "\n",
       "    .dataframe thead th {\n",
       "        text-align: right;\n",
       "    }\n",
       "</style>\n",
       "<table border=\"1\" class=\"dataframe\">\n",
       "  <thead>\n",
       "    <tr style=\"text-align: right;\">\n",
       "      <th></th>\n",
       "      <th>booking_id</th>\n",
       "      <th>property_id</th>\n",
       "      <th>booking_date</th>\n",
       "      <th>check_in_date</th>\n",
       "      <th>checkout_date</th>\n",
       "      <th>no_guests</th>\n",
       "      <th>room_category</th>\n",
       "      <th>booking_platform</th>\n",
       "      <th>ratings_given</th>\n",
       "      <th>booking_status</th>\n",
       "      <th>revenue_generated</th>\n",
       "      <th>revenue_realized</th>\n",
       "    </tr>\n",
       "  </thead>\n",
       "  <tbody>\n",
       "    <tr>\n",
       "      <th>140</th>\n",
       "      <td>May012216559RT44</td>\n",
       "      <td>16559</td>\n",
       "      <td>2022-04-28</td>\n",
       "      <td>2022-05-01</td>\n",
       "      <td>2022-05-05</td>\n",
       "      <td>2</td>\n",
       "      <td>RT4</td>\n",
       "      <td>others</td>\n",
       "      <td>NaN</td>\n",
       "      <td>Checked Out</td>\n",
       "      <td>32300</td>\n",
       "      <td>32300</td>\n",
       "    </tr>\n",
       "    <tr>\n",
       "      <th>141</th>\n",
       "      <td>May012216559RT45</td>\n",
       "      <td>16559</td>\n",
       "      <td>2022-04-28</td>\n",
       "      <td>2022-05-01</td>\n",
       "      <td>2022-05-04</td>\n",
       "      <td>2</td>\n",
       "      <td>RT4</td>\n",
       "      <td>others</td>\n",
       "      <td>5.0</td>\n",
       "      <td>Checked Out</td>\n",
       "      <td>32300</td>\n",
       "      <td>32300</td>\n",
       "    </tr>\n",
       "    <tr>\n",
       "      <th>144</th>\n",
       "      <td>May012216559RT48</td>\n",
       "      <td>16559</td>\n",
       "      <td>2022-04-26</td>\n",
       "      <td>2022-05-01</td>\n",
       "      <td>2022-05-02</td>\n",
       "      <td>2</td>\n",
       "      <td>RT4</td>\n",
       "      <td>makeyourtrip</td>\n",
       "      <td>5.0</td>\n",
       "      <td>Checked Out</td>\n",
       "      <td>32300</td>\n",
       "      <td>32300</td>\n",
       "    </tr>\n",
       "    <tr>\n",
       "      <th>145</th>\n",
       "      <td>May012216559RT49</td>\n",
       "      <td>16559</td>\n",
       "      <td>2022-04-28</td>\n",
       "      <td>2022-05-01</td>\n",
       "      <td>2022-05-03</td>\n",
       "      <td>2</td>\n",
       "      <td>RT4</td>\n",
       "      <td>others</td>\n",
       "      <td>NaN</td>\n",
       "      <td>Checked Out</td>\n",
       "      <td>32300</td>\n",
       "      <td>32300</td>\n",
       "    </tr>\n",
       "    <tr>\n",
       "      <th>146</th>\n",
       "      <td>May012216559RT410</td>\n",
       "      <td>16559</td>\n",
       "      <td>2022-04-30</td>\n",
       "      <td>2022-05-01</td>\n",
       "      <td>2022-05-06</td>\n",
       "      <td>2</td>\n",
       "      <td>RT4</td>\n",
       "      <td>logtrip</td>\n",
       "      <td>NaN</td>\n",
       "      <td>No Show</td>\n",
       "      <td>32300</td>\n",
       "      <td>32300</td>\n",
       "    </tr>\n",
       "    <tr>\n",
       "      <th>...</th>\n",
       "      <td>...</td>\n",
       "      <td>...</td>\n",
       "      <td>...</td>\n",
       "      <td>...</td>\n",
       "      <td>...</td>\n",
       "      <td>...</td>\n",
       "      <td>...</td>\n",
       "      <td>...</td>\n",
       "      <td>...</td>\n",
       "      <td>...</td>\n",
       "      <td>...</td>\n",
       "      <td>...</td>\n",
       "    </tr>\n",
       "    <tr>\n",
       "      <th>134580</th>\n",
       "      <td>Jul312217564RT41</td>\n",
       "      <td>17564</td>\n",
       "      <td>2022-07-31</td>\n",
       "      <td>2022-07-31</td>\n",
       "      <td>2022-08-02</td>\n",
       "      <td>1</td>\n",
       "      <td>RT4</td>\n",
       "      <td>direct online</td>\n",
       "      <td>NaN</td>\n",
       "      <td>Checked Out</td>\n",
       "      <td>32300</td>\n",
       "      <td>32300</td>\n",
       "    </tr>\n",
       "    <tr>\n",
       "      <th>134582</th>\n",
       "      <td>Jul312217564RT43</td>\n",
       "      <td>17564</td>\n",
       "      <td>2022-07-31</td>\n",
       "      <td>2022-07-31</td>\n",
       "      <td>2022-08-03</td>\n",
       "      <td>1</td>\n",
       "      <td>RT4</td>\n",
       "      <td>others</td>\n",
       "      <td>1.0</td>\n",
       "      <td>Checked Out</td>\n",
       "      <td>32300</td>\n",
       "      <td>32300</td>\n",
       "    </tr>\n",
       "    <tr>\n",
       "      <th>134584</th>\n",
       "      <td>Jul312217564RT45</td>\n",
       "      <td>17564</td>\n",
       "      <td>2022-07-30</td>\n",
       "      <td>2022-07-31</td>\n",
       "      <td>2022-08-01</td>\n",
       "      <td>2</td>\n",
       "      <td>RT4</td>\n",
       "      <td>others</td>\n",
       "      <td>2.0</td>\n",
       "      <td>Checked Out</td>\n",
       "      <td>32300</td>\n",
       "      <td>32300</td>\n",
       "    </tr>\n",
       "    <tr>\n",
       "      <th>134585</th>\n",
       "      <td>Jul312217564RT46</td>\n",
       "      <td>17564</td>\n",
       "      <td>2022-07-29</td>\n",
       "      <td>2022-07-31</td>\n",
       "      <td>2022-08-03</td>\n",
       "      <td>1</td>\n",
       "      <td>RT4</td>\n",
       "      <td>makeyourtrip</td>\n",
       "      <td>2.0</td>\n",
       "      <td>Checked Out</td>\n",
       "      <td>32300</td>\n",
       "      <td>32300</td>\n",
       "    </tr>\n",
       "    <tr>\n",
       "      <th>134588</th>\n",
       "      <td>Jul312217564RT49</td>\n",
       "      <td>17564</td>\n",
       "      <td>2022-07-29</td>\n",
       "      <td>2022-07-31</td>\n",
       "      <td>2022-08-01</td>\n",
       "      <td>2</td>\n",
       "      <td>RT4</td>\n",
       "      <td>logtrip</td>\n",
       "      <td>2.0</td>\n",
       "      <td>Checked Out</td>\n",
       "      <td>32300</td>\n",
       "      <td>32300</td>\n",
       "    </tr>\n",
       "  </tbody>\n",
       "</table>\n",
       "<p>3256 rows × 12 columns</p>\n",
       "</div>"
      ],
      "text/plain": [
       "               booking_id  property_id booking_date check_in_date  \\\n",
       "140      May012216559RT44        16559   2022-04-28    2022-05-01   \n",
       "141      May012216559RT45        16559   2022-04-28    2022-05-01   \n",
       "144      May012216559RT48        16559   2022-04-26    2022-05-01   \n",
       "145      May012216559RT49        16559   2022-04-28    2022-05-01   \n",
       "146     May012216559RT410        16559   2022-04-30    2022-05-01   \n",
       "...                   ...          ...          ...           ...   \n",
       "134580   Jul312217564RT41        17564   2022-07-31    2022-07-31   \n",
       "134582   Jul312217564RT43        17564   2022-07-31    2022-07-31   \n",
       "134584   Jul312217564RT45        17564   2022-07-30    2022-07-31   \n",
       "134585   Jul312217564RT46        17564   2022-07-29    2022-07-31   \n",
       "134588   Jul312217564RT49        17564   2022-07-29    2022-07-31   \n",
       "\n",
       "       checkout_date  no_guests room_category booking_platform  ratings_given  \\\n",
       "140       2022-05-05          2           RT4           others            NaN   \n",
       "141       2022-05-04          2           RT4           others            5.0   \n",
       "144       2022-05-02          2           RT4     makeyourtrip            5.0   \n",
       "145       2022-05-03          2           RT4           others            NaN   \n",
       "146       2022-05-06          2           RT4          logtrip            NaN   \n",
       "...              ...        ...           ...              ...            ...   \n",
       "134580    2022-08-02          1           RT4    direct online            NaN   \n",
       "134582    2022-08-03          1           RT4           others            1.0   \n",
       "134584    2022-08-01          2           RT4           others            2.0   \n",
       "134585    2022-08-03          1           RT4     makeyourtrip            2.0   \n",
       "134588    2022-08-01          2           RT4          logtrip            2.0   \n",
       "\n",
       "       booking_status  revenue_generated  revenue_realized  \n",
       "140       Checked Out              32300             32300  \n",
       "141       Checked Out              32300             32300  \n",
       "144       Checked Out              32300             32300  \n",
       "145       Checked Out              32300             32300  \n",
       "146           No Show              32300             32300  \n",
       "...               ...                ...               ...  \n",
       "134580    Checked Out              32300             32300  \n",
       "134582    Checked Out              32300             32300  \n",
       "134584    Checked Out              32300             32300  \n",
       "134585    Checked Out              32300             32300  \n",
       "134588    Checked Out              32300             32300  \n",
       "\n",
       "[3256 rows x 12 columns]"
      ]
     },
     "execution_count": 776,
     "metadata": {},
     "output_type": "execute_result"
    }
   ],
   "source": [
    "df_bookings[df_bookings.revenue_realized>higher_limit]"
   ]
  },
  {
   "cell_type": "code",
   "execution_count": 777,
   "id": "df498798-cd6d-4fc2-ae67-46f739b72cb0",
   "metadata": {},
   "outputs": [
    {
     "data": {
      "text/plain": [
       "count    14553.000000\n",
       "mean     22483.440390\n",
       "std       8338.248282\n",
       "min       7600.000000\n",
       "25%      19000.000000\n",
       "50%      22800.000000\n",
       "75%      31350.000000\n",
       "max      34200.000000\n",
       "Name: revenue_realized, dtype: float64"
      ]
     },
     "execution_count": 777,
     "metadata": {},
     "output_type": "execute_result"
    }
   ],
   "source": [
    "#all rooms are RT4 which means presidential suit.\n",
    "#Now since RT4 is a luxurious room it is likely their rent will be higher. \n",
    "#To make a fair analysis,\n",
    "#we need to do data analysis only on RT4 room types\n",
    "\n",
    "\n",
    "\n",
    "df_bookings[df_bookings.room_category==\"RT4\"].revenue_realized.describe()"
   ]
  },
  {
   "cell_type": "code",
   "execution_count": 778,
   "id": "8dfc6dde-babd-4738-a099-ad46ca3ec793",
   "metadata": {},
   "outputs": [
    {
     "data": {
      "text/plain": [
       "47497"
      ]
     },
     "execution_count": 778,
     "metadata": {},
     "output_type": "execute_result"
    }
   ],
   "source": [
    "# mean + 3*standard deviation\n",
    "22483+3*8338"
   ]
  },
  {
   "cell_type": "code",
   "execution_count": 779,
   "id": "bdc3f7db-4de1-428d-a719-6891cd73a020",
   "metadata": {},
   "outputs": [],
   "source": [
    "#Here higher limit comes to be 47497 and \n",
    "#in our dataframe above we can see that max value for revenue realized is 34200. \n",
    "#Hence we can conclude that there is no outlier\n",
    "#and we don't need to do any data cleaning on this particular column"
   ]
  },
  {
   "cell_type": "code",
   "execution_count": 780,
   "id": "65f3ad03-7e0c-4f43-8070-a9afc8a24924",
   "metadata": {},
   "outputs": [
    {
     "data": {
      "text/html": [
       "<div>\n",
       "<style scoped>\n",
       "    .dataframe tbody tr th:only-of-type {\n",
       "        vertical-align: middle;\n",
       "    }\n",
       "\n",
       "    .dataframe tbody tr th {\n",
       "        vertical-align: top;\n",
       "    }\n",
       "\n",
       "    .dataframe thead th {\n",
       "        text-align: right;\n",
       "    }\n",
       "</style>\n",
       "<table border=\"1\" class=\"dataframe\">\n",
       "  <thead>\n",
       "    <tr style=\"text-align: right;\">\n",
       "      <th></th>\n",
       "      <th>booking_id</th>\n",
       "      <th>property_id</th>\n",
       "      <th>booking_date</th>\n",
       "      <th>check_in_date</th>\n",
       "      <th>checkout_date</th>\n",
       "      <th>no_guests</th>\n",
       "      <th>room_category</th>\n",
       "      <th>booking_platform</th>\n",
       "      <th>ratings_given</th>\n",
       "      <th>booking_status</th>\n",
       "      <th>revenue_generated</th>\n",
       "      <th>revenue_realized</th>\n",
       "    </tr>\n",
       "  </thead>\n",
       "  <tbody>\n",
       "    <tr>\n",
       "      <th>30</th>\n",
       "      <td>May012216558RT213</td>\n",
       "      <td>16558</td>\n",
       "      <td>2022-04-29</td>\n",
       "      <td>2022-05-01</td>\n",
       "      <td>2022-05-02</td>\n",
       "      <td>2</td>\n",
       "      <td>RT2</td>\n",
       "      <td>logtrip</td>\n",
       "      <td>4.0</td>\n",
       "      <td>Checked Out</td>\n",
       "      <td>12600</td>\n",
       "      <td>12600</td>\n",
       "    </tr>\n",
       "  </tbody>\n",
       "</table>\n",
       "</div>"
      ],
      "text/plain": [
       "           booking_id  property_id booking_date check_in_date checkout_date  \\\n",
       "30  May012216558RT213        16558   2022-04-29    2022-05-01    2022-05-02   \n",
       "\n",
       "    no_guests room_category booking_platform  ratings_given booking_status  \\\n",
       "30          2           RT2          logtrip            4.0    Checked Out   \n",
       "\n",
       "    revenue_generated  revenue_realized  \n",
       "30              12600             12600  "
      ]
     },
     "execution_count": 780,
     "metadata": {},
     "output_type": "execute_result"
    }
   ],
   "source": [
    "df_bookings[df_bookings.booking_id==\"May012216558RT213\"]"
   ]
  },
  {
   "cell_type": "code",
   "execution_count": 781,
   "id": "a6e7f4c0-af71-4d2a-bcb2-68e96f6a1c57",
   "metadata": {},
   "outputs": [
    {
     "data": {
      "text/plain": [
       "booking_id               0\n",
       "property_id              0\n",
       "booking_date             0\n",
       "check_in_date            0\n",
       "checkout_date            0\n",
       "no_guests                0\n",
       "room_category            0\n",
       "booking_platform         0\n",
       "ratings_given        77054\n",
       "booking_status           0\n",
       "revenue_generated        0\n",
       "revenue_realized         0\n",
       "dtype: int64"
      ]
     },
     "execution_count": 781,
     "metadata": {},
     "output_type": "execute_result"
    }
   ],
   "source": [
    "df_bookings.isnull().sum()"
   ]
  },
  {
   "cell_type": "code",
   "execution_count": 782,
   "id": "7fe65e03-481c-4b38-9d3a-ffcfee821bec",
   "metadata": {},
   "outputs": [
    {
     "data": {
      "text/plain": [
       "property_id            0\n",
       "check_in_date          0\n",
       "room_category          0\n",
       "successful_bookings    0\n",
       "capacity               0\n",
       "dtype: int64"
      ]
     },
     "execution_count": 782,
     "metadata": {},
     "output_type": "execute_result"
    }
   ],
   "source": [
    "#In aggregate bookings finding columns that have null values.\n",
    "#Fill these null values with whatever you think\n",
    "#is the appropriate subtitute (possible ways is to use mean or median)\n",
    "\n",
    "\n",
    "df_agg_bookings.isnull().sum()"
   ]
  },
  {
   "cell_type": "code",
   "execution_count": 783,
   "id": "a83fc34a-bd65-4c9e-907c-300a5023bca1",
   "metadata": {},
   "outputs": [
    {
     "data": {
      "text/html": [
       "<div>\n",
       "<style scoped>\n",
       "    .dataframe tbody tr th:only-of-type {\n",
       "        vertical-align: middle;\n",
       "    }\n",
       "\n",
       "    .dataframe tbody tr th {\n",
       "        vertical-align: top;\n",
       "    }\n",
       "\n",
       "    .dataframe thead th {\n",
       "        text-align: right;\n",
       "    }\n",
       "</style>\n",
       "<table border=\"1\" class=\"dataframe\">\n",
       "  <thead>\n",
       "    <tr style=\"text-align: right;\">\n",
       "      <th></th>\n",
       "      <th>property_id</th>\n",
       "      <th>check_in_date</th>\n",
       "      <th>room_category</th>\n",
       "      <th>successful_bookings</th>\n",
       "      <th>capacity</th>\n",
       "    </tr>\n",
       "  </thead>\n",
       "  <tbody>\n",
       "  </tbody>\n",
       "</table>\n",
       "</div>"
      ],
      "text/plain": [
       "Empty DataFrame\n",
       "Columns: [property_id, check_in_date, room_category, successful_bookings, capacity]\n",
       "Index: []"
      ]
     },
     "execution_count": 783,
     "metadata": {},
     "output_type": "execute_result"
    }
   ],
   "source": [
    "df_agg_bookings[df_agg_bookings.capacity.isna()]"
   ]
  },
  {
   "cell_type": "code",
   "execution_count": 784,
   "id": "a8fa16ae-9cfc-4c37-ab93-d16ae4334f70",
   "metadata": {},
   "outputs": [
    {
     "data": {
      "text/plain": [
       "np.float64(25.0)"
      ]
     },
     "execution_count": 784,
     "metadata": {},
     "output_type": "execute_result"
    }
   ],
   "source": [
    "df_agg_bookings.capacity.median()"
   ]
  },
  {
   "cell_type": "code",
   "execution_count": 785,
   "id": "1e1dec05-d63f-4a85-a55b-763c8e1f3f61",
   "metadata": {},
   "outputs": [
    {
     "data": {
      "text/html": [
       "<div>\n",
       "<style scoped>\n",
       "    .dataframe tbody tr th:only-of-type {\n",
       "        vertical-align: middle;\n",
       "    }\n",
       "\n",
       "    .dataframe tbody tr th {\n",
       "        vertical-align: top;\n",
       "    }\n",
       "\n",
       "    .dataframe thead th {\n",
       "        text-align: right;\n",
       "    }\n",
       "</style>\n",
       "<table border=\"1\" class=\"dataframe\">\n",
       "  <thead>\n",
       "    <tr style=\"text-align: right;\">\n",
       "      <th></th>\n",
       "      <th>property_id</th>\n",
       "      <th>check_in_date</th>\n",
       "      <th>room_category</th>\n",
       "      <th>successful_bookings</th>\n",
       "      <th>capacity</th>\n",
       "    </tr>\n",
       "  </thead>\n",
       "  <tbody>\n",
       "    <tr>\n",
       "      <th>8</th>\n",
       "      <td>17561</td>\n",
       "      <td>01-May-22</td>\n",
       "      <td>RT1</td>\n",
       "      <td>22</td>\n",
       "      <td>26</td>\n",
       "    </tr>\n",
       "    <tr>\n",
       "      <th>15</th>\n",
       "      <td>17563</td>\n",
       "      <td>01-May-22</td>\n",
       "      <td>RT1</td>\n",
       "      <td>21</td>\n",
       "      <td>25</td>\n",
       "    </tr>\n",
       "  </tbody>\n",
       "</table>\n",
       "</div>"
      ],
      "text/plain": [
       "    property_id check_in_date room_category  successful_bookings  capacity\n",
       "8         17561     01-May-22           RT1                   22        26\n",
       "15        17563     01-May-22           RT1                   21        25"
      ]
     },
     "execution_count": 785,
     "metadata": {},
     "output_type": "execute_result"
    }
   ],
   "source": [
    "df_agg_bookings.loc[[8,15]]"
   ]
  },
  {
   "cell_type": "code",
   "execution_count": 786,
   "id": "6b1e364c-575b-45a7-b81c-0079c716c06e",
   "metadata": {},
   "outputs": [
    {
     "data": {
      "text/html": [
       "<div>\n",
       "<style scoped>\n",
       "    .dataframe tbody tr th:only-of-type {\n",
       "        vertical-align: middle;\n",
       "    }\n",
       "\n",
       "    .dataframe tbody tr th {\n",
       "        vertical-align: top;\n",
       "    }\n",
       "\n",
       "    .dataframe thead th {\n",
       "        text-align: right;\n",
       "    }\n",
       "</style>\n",
       "<table border=\"1\" class=\"dataframe\">\n",
       "  <thead>\n",
       "    <tr style=\"text-align: right;\">\n",
       "      <th></th>\n",
       "      <th>property_id</th>\n",
       "      <th>check_in_date</th>\n",
       "      <th>room_category</th>\n",
       "      <th>successful_bookings</th>\n",
       "      <th>capacity</th>\n",
       "    </tr>\n",
       "  </thead>\n",
       "  <tbody>\n",
       "  </tbody>\n",
       "</table>\n",
       "</div>"
      ],
      "text/plain": [
       "Empty DataFrame\n",
       "Columns: [property_id, check_in_date, room_category, successful_bookings, capacity]\n",
       "Index: []"
      ]
     },
     "execution_count": 786,
     "metadata": {},
     "output_type": "execute_result"
    }
   ],
   "source": [
    "#In aggregate bookings finding out records \n",
    "#that have successful_bookings value greater than capacity. \n",
    "#Filter those records\n",
    "\n",
    "df_agg_bookings[df_agg_bookings.successful_bookings>df_agg_bookings.capacity]"
   ]
  },
  {
   "cell_type": "code",
   "execution_count": 787,
   "id": "ea3bd1af-1827-4b7d-a5d6-ba4fbd8917b3",
   "metadata": {},
   "outputs": [
    {
     "data": {
      "text/plain": [
       "(9200, 5)"
      ]
     },
     "execution_count": 787,
     "metadata": {},
     "output_type": "execute_result"
    }
   ],
   "source": [
    "df_agg_bookings.shape"
   ]
  },
  {
   "cell_type": "code",
   "execution_count": 788,
   "id": "82774f43-a955-461c-924b-91e64226b166",
   "metadata": {},
   "outputs": [
    {
     "data": {
      "text/plain": [
       "(9200, 5)"
      ]
     },
     "execution_count": 788,
     "metadata": {},
     "output_type": "execute_result"
    }
   ],
   "source": [
    "df_agg_bookings = df_agg_bookings[df_agg_bookings.successful_bookings<=df_agg_bookings.capacity]\n",
    "df_agg_bookings.shape"
   ]
  },
  {
   "cell_type": "code",
   "execution_count": 789,
   "id": "0504a910-ab10-4fac-a1e0-095e60ec7b44",
   "metadata": {},
   "outputs": [],
   "source": [
    "#DATA TRANSFORMATION"
   ]
  },
  {
   "cell_type": "code",
   "execution_count": null,
   "id": "acd9c875-83d3-418f-9f70-f9f59efc473d",
   "metadata": {},
   "outputs": [],
   "source": []
  },
  {
   "cell_type": "code",
   "execution_count": 790,
   "id": "ed8bb321-f89f-4dcf-be45-a8f7df31d047",
   "metadata": {},
   "outputs": [
    {
     "data": {
      "text/html": [
       "<div>\n",
       "<style scoped>\n",
       "    .dataframe tbody tr th:only-of-type {\n",
       "        vertical-align: middle;\n",
       "    }\n",
       "\n",
       "    .dataframe tbody tr th {\n",
       "        vertical-align: top;\n",
       "    }\n",
       "\n",
       "    .dataframe thead th {\n",
       "        text-align: right;\n",
       "    }\n",
       "</style>\n",
       "<table border=\"1\" class=\"dataframe\">\n",
       "  <thead>\n",
       "    <tr style=\"text-align: right;\">\n",
       "      <th></th>\n",
       "      <th>property_id</th>\n",
       "      <th>check_in_date</th>\n",
       "      <th>room_category</th>\n",
       "      <th>successful_bookings</th>\n",
       "      <th>capacity</th>\n",
       "    </tr>\n",
       "  </thead>\n",
       "  <tbody>\n",
       "    <tr>\n",
       "      <th>0</th>\n",
       "      <td>16559</td>\n",
       "      <td>01-May-22</td>\n",
       "      <td>RT1</td>\n",
       "      <td>25</td>\n",
       "      <td>30</td>\n",
       "    </tr>\n",
       "    <tr>\n",
       "      <th>1</th>\n",
       "      <td>19562</td>\n",
       "      <td>01-May-22</td>\n",
       "      <td>RT1</td>\n",
       "      <td>28</td>\n",
       "      <td>30</td>\n",
       "    </tr>\n",
       "    <tr>\n",
       "      <th>2</th>\n",
       "      <td>19563</td>\n",
       "      <td>01-May-22</td>\n",
       "      <td>RT1</td>\n",
       "      <td>23</td>\n",
       "      <td>30</td>\n",
       "    </tr>\n",
       "  </tbody>\n",
       "</table>\n",
       "</div>"
      ],
      "text/plain": [
       "   property_id check_in_date room_category  successful_bookings  capacity\n",
       "0        16559     01-May-22           RT1                   25        30\n",
       "1        19562     01-May-22           RT1                   28        30\n",
       "2        19563     01-May-22           RT1                   23        30"
      ]
     },
     "execution_count": 790,
     "metadata": {},
     "output_type": "execute_result"
    }
   ],
   "source": [
    "df_agg_bookings.head(3)"
   ]
  },
  {
   "cell_type": "code",
   "execution_count": 791,
   "id": "0ddd8e8f-2333-4e50-9ffb-5f15c425f0a0",
   "metadata": {},
   "outputs": [],
   "source": [
    "df_agg_bookings['occ_pct'] = df_agg_bookings.apply(lambda row: row['successful_bookings']/row['capacity'], axis=1)"
   ]
  },
  {
   "cell_type": "code",
   "execution_count": 792,
   "id": "44be9f6e-df3b-4f04-96b5-da90ff8419f4",
   "metadata": {},
   "outputs": [
    {
     "data": {
      "text/html": [
       "<div>\n",
       "<style scoped>\n",
       "    .dataframe tbody tr th:only-of-type {\n",
       "        vertical-align: middle;\n",
       "    }\n",
       "\n",
       "    .dataframe tbody tr th {\n",
       "        vertical-align: top;\n",
       "    }\n",
       "\n",
       "    .dataframe thead th {\n",
       "        text-align: right;\n",
       "    }\n",
       "</style>\n",
       "<table border=\"1\" class=\"dataframe\">\n",
       "  <thead>\n",
       "    <tr style=\"text-align: right;\">\n",
       "      <th></th>\n",
       "      <th>property_id</th>\n",
       "      <th>check_in_date</th>\n",
       "      <th>room_category</th>\n",
       "      <th>successful_bookings</th>\n",
       "      <th>capacity</th>\n",
       "      <th>occ_pct</th>\n",
       "    </tr>\n",
       "  </thead>\n",
       "  <tbody>\n",
       "    <tr>\n",
       "      <th>0</th>\n",
       "      <td>16559</td>\n",
       "      <td>01-May-22</td>\n",
       "      <td>RT1</td>\n",
       "      <td>25</td>\n",
       "      <td>30</td>\n",
       "      <td>0.833333</td>\n",
       "    </tr>\n",
       "    <tr>\n",
       "      <th>1</th>\n",
       "      <td>19562</td>\n",
       "      <td>01-May-22</td>\n",
       "      <td>RT1</td>\n",
       "      <td>28</td>\n",
       "      <td>30</td>\n",
       "      <td>0.933333</td>\n",
       "    </tr>\n",
       "    <tr>\n",
       "      <th>2</th>\n",
       "      <td>19563</td>\n",
       "      <td>01-May-22</td>\n",
       "      <td>RT1</td>\n",
       "      <td>23</td>\n",
       "      <td>30</td>\n",
       "      <td>0.766667</td>\n",
       "    </tr>\n",
       "  </tbody>\n",
       "</table>\n",
       "</div>"
      ],
      "text/plain": [
       "   property_id check_in_date room_category  successful_bookings  capacity  \\\n",
       "0        16559     01-May-22           RT1                   25        30   \n",
       "1        19562     01-May-22           RT1                   28        30   \n",
       "2        19563     01-May-22           RT1                   23        30   \n",
       "\n",
       "    occ_pct  \n",
       "0  0.833333  \n",
       "1  0.933333  \n",
       "2  0.766667  "
      ]
     },
     "execution_count": 792,
     "metadata": {},
     "output_type": "execute_result"
    }
   ],
   "source": [
    "#Approach to get rid of SettingWithCopyWarning\n",
    "\n",
    "\n",
    "new_col = df_agg_bookings.apply(lambda row: row['successful_bookings']/row['capacity'], axis=1)\n",
    "df_agg_bookings = df_agg_bookings.assign(occ_pct=new_col.values)\n",
    "df_agg_bookings.head(3)"
   ]
  },
  {
   "cell_type": "code",
   "execution_count": 793,
   "id": "633110a8-a4e4-4385-9e5c-fce0e6becbd2",
   "metadata": {},
   "outputs": [
    {
     "data": {
      "text/html": [
       "<div>\n",
       "<style scoped>\n",
       "    .dataframe tbody tr th:only-of-type {\n",
       "        vertical-align: middle;\n",
       "    }\n",
       "\n",
       "    .dataframe tbody tr th {\n",
       "        vertical-align: top;\n",
       "    }\n",
       "\n",
       "    .dataframe thead th {\n",
       "        text-align: right;\n",
       "    }\n",
       "</style>\n",
       "<table border=\"1\" class=\"dataframe\">\n",
       "  <thead>\n",
       "    <tr style=\"text-align: right;\">\n",
       "      <th></th>\n",
       "      <th>property_id</th>\n",
       "      <th>check_in_date</th>\n",
       "      <th>room_category</th>\n",
       "      <th>successful_bookings</th>\n",
       "      <th>capacity</th>\n",
       "      <th>occ_pct</th>\n",
       "    </tr>\n",
       "  </thead>\n",
       "  <tbody>\n",
       "    <tr>\n",
       "      <th>0</th>\n",
       "      <td>16559</td>\n",
       "      <td>01-May-22</td>\n",
       "      <td>RT1</td>\n",
       "      <td>25</td>\n",
       "      <td>30</td>\n",
       "      <td>83.33</td>\n",
       "    </tr>\n",
       "    <tr>\n",
       "      <th>1</th>\n",
       "      <td>19562</td>\n",
       "      <td>01-May-22</td>\n",
       "      <td>RT1</td>\n",
       "      <td>28</td>\n",
       "      <td>30</td>\n",
       "      <td>93.33</td>\n",
       "    </tr>\n",
       "    <tr>\n",
       "      <th>2</th>\n",
       "      <td>19563</td>\n",
       "      <td>01-May-22</td>\n",
       "      <td>RT1</td>\n",
       "      <td>23</td>\n",
       "      <td>30</td>\n",
       "      <td>76.67</td>\n",
       "    </tr>\n",
       "  </tbody>\n",
       "</table>\n",
       "</div>"
      ],
      "text/plain": [
       "   property_id check_in_date room_category  successful_bookings  capacity  \\\n",
       "0        16559     01-May-22           RT1                   25        30   \n",
       "1        19562     01-May-22           RT1                   28        30   \n",
       "2        19563     01-May-22           RT1                   23        30   \n",
       "\n",
       "   occ_pct  \n",
       "0    83.33  \n",
       "1    93.33  \n",
       "2    76.67  "
      ]
     },
     "execution_count": 793,
     "metadata": {},
     "output_type": "execute_result"
    }
   ],
   "source": [
    "#Converting into percentage value\n",
    "\n",
    "df_agg_bookings['occ_pct'] = df_agg_bookings['occ_pct'].apply(lambda x: round(x*100, 2))\n",
    "df_agg_bookings.head(3)"
   ]
  },
  {
   "cell_type": "code",
   "execution_count": 794,
   "id": "63bc3aaf-e65c-47d7-a0a2-045f857028ae",
   "metadata": {},
   "outputs": [
    {
     "data": {
      "text/html": [
       "<div>\n",
       "<style scoped>\n",
       "    .dataframe tbody tr th:only-of-type {\n",
       "        vertical-align: middle;\n",
       "    }\n",
       "\n",
       "    .dataframe tbody tr th {\n",
       "        vertical-align: top;\n",
       "    }\n",
       "\n",
       "    .dataframe thead th {\n",
       "        text-align: right;\n",
       "    }\n",
       "</style>\n",
       "<table border=\"1\" class=\"dataframe\">\n",
       "  <thead>\n",
       "    <tr style=\"text-align: right;\">\n",
       "      <th></th>\n",
       "      <th>booking_id</th>\n",
       "      <th>property_id</th>\n",
       "      <th>booking_date</th>\n",
       "      <th>check_in_date</th>\n",
       "      <th>checkout_date</th>\n",
       "      <th>no_guests</th>\n",
       "      <th>room_category</th>\n",
       "      <th>booking_platform</th>\n",
       "      <th>ratings_given</th>\n",
       "      <th>booking_status</th>\n",
       "      <th>revenue_generated</th>\n",
       "      <th>revenue_realized</th>\n",
       "    </tr>\n",
       "  </thead>\n",
       "  <tbody>\n",
       "    <tr>\n",
       "      <th>0</th>\n",
       "      <td>May012216558RT11</td>\n",
       "      <td>16558</td>\n",
       "      <td>2022-04-27</td>\n",
       "      <td>2022-05-01</td>\n",
       "      <td>2022-05-02</td>\n",
       "      <td>3</td>\n",
       "      <td>RT1</td>\n",
       "      <td>direct online</td>\n",
       "      <td>1.0</td>\n",
       "      <td>Checked Out</td>\n",
       "      <td>10010</td>\n",
       "      <td>10010</td>\n",
       "    </tr>\n",
       "    <tr>\n",
       "      <th>1</th>\n",
       "      <td>May012216558RT12</td>\n",
       "      <td>16558</td>\n",
       "      <td>2022-04-30</td>\n",
       "      <td>2022-05-01</td>\n",
       "      <td>2022-05-02</td>\n",
       "      <td>2</td>\n",
       "      <td>RT1</td>\n",
       "      <td>others</td>\n",
       "      <td>NaN</td>\n",
       "      <td>Cancelled</td>\n",
       "      <td>9100</td>\n",
       "      <td>3640</td>\n",
       "    </tr>\n",
       "    <tr>\n",
       "      <th>2</th>\n",
       "      <td>May012216558RT13</td>\n",
       "      <td>16558</td>\n",
       "      <td>2022-04-28</td>\n",
       "      <td>2022-05-01</td>\n",
       "      <td>2022-05-04</td>\n",
       "      <td>2</td>\n",
       "      <td>RT1</td>\n",
       "      <td>logtrip</td>\n",
       "      <td>5.0</td>\n",
       "      <td>Checked Out</td>\n",
       "      <td>9100</td>\n",
       "      <td>9100</td>\n",
       "    </tr>\n",
       "    <tr>\n",
       "      <th>3</th>\n",
       "      <td>May012216558RT14</td>\n",
       "      <td>16558</td>\n",
       "      <td>2022-04-28</td>\n",
       "      <td>2022-05-01</td>\n",
       "      <td>2022-05-02</td>\n",
       "      <td>2</td>\n",
       "      <td>RT1</td>\n",
       "      <td>others</td>\n",
       "      <td>NaN</td>\n",
       "      <td>Cancelled</td>\n",
       "      <td>9100</td>\n",
       "      <td>3640</td>\n",
       "    </tr>\n",
       "    <tr>\n",
       "      <th>4</th>\n",
       "      <td>May012216558RT15</td>\n",
       "      <td>16558</td>\n",
       "      <td>2022-04-27</td>\n",
       "      <td>2022-05-01</td>\n",
       "      <td>2022-05-02</td>\n",
       "      <td>4</td>\n",
       "      <td>RT1</td>\n",
       "      <td>direct online</td>\n",
       "      <td>5.0</td>\n",
       "      <td>Checked Out</td>\n",
       "      <td>10920</td>\n",
       "      <td>10920</td>\n",
       "    </tr>\n",
       "    <tr>\n",
       "      <th>...</th>\n",
       "      <td>...</td>\n",
       "      <td>...</td>\n",
       "      <td>...</td>\n",
       "      <td>...</td>\n",
       "      <td>...</td>\n",
       "      <td>...</td>\n",
       "      <td>...</td>\n",
       "      <td>...</td>\n",
       "      <td>...</td>\n",
       "      <td>...</td>\n",
       "      <td>...</td>\n",
       "      <td>...</td>\n",
       "    </tr>\n",
       "    <tr>\n",
       "      <th>134584</th>\n",
       "      <td>Jul312217564RT45</td>\n",
       "      <td>17564</td>\n",
       "      <td>2022-07-30</td>\n",
       "      <td>2022-07-31</td>\n",
       "      <td>2022-08-01</td>\n",
       "      <td>2</td>\n",
       "      <td>RT4</td>\n",
       "      <td>others</td>\n",
       "      <td>2.0</td>\n",
       "      <td>Checked Out</td>\n",
       "      <td>32300</td>\n",
       "      <td>32300</td>\n",
       "    </tr>\n",
       "    <tr>\n",
       "      <th>134585</th>\n",
       "      <td>Jul312217564RT46</td>\n",
       "      <td>17564</td>\n",
       "      <td>2022-07-29</td>\n",
       "      <td>2022-07-31</td>\n",
       "      <td>2022-08-03</td>\n",
       "      <td>1</td>\n",
       "      <td>RT4</td>\n",
       "      <td>makeyourtrip</td>\n",
       "      <td>2.0</td>\n",
       "      <td>Checked Out</td>\n",
       "      <td>32300</td>\n",
       "      <td>32300</td>\n",
       "    </tr>\n",
       "    <tr>\n",
       "      <th>134587</th>\n",
       "      <td>Jul312217564RT48</td>\n",
       "      <td>17564</td>\n",
       "      <td>2022-07-30</td>\n",
       "      <td>2022-07-31</td>\n",
       "      <td>2022-08-02</td>\n",
       "      <td>1</td>\n",
       "      <td>RT4</td>\n",
       "      <td>tripster</td>\n",
       "      <td>NaN</td>\n",
       "      <td>Cancelled</td>\n",
       "      <td>32300</td>\n",
       "      <td>12920</td>\n",
       "    </tr>\n",
       "    <tr>\n",
       "      <th>134588</th>\n",
       "      <td>Jul312217564RT49</td>\n",
       "      <td>17564</td>\n",
       "      <td>2022-07-29</td>\n",
       "      <td>2022-07-31</td>\n",
       "      <td>2022-08-01</td>\n",
       "      <td>2</td>\n",
       "      <td>RT4</td>\n",
       "      <td>logtrip</td>\n",
       "      <td>2.0</td>\n",
       "      <td>Checked Out</td>\n",
       "      <td>32300</td>\n",
       "      <td>32300</td>\n",
       "    </tr>\n",
       "    <tr>\n",
       "      <th>134589</th>\n",
       "      <td>Jul312217564RT410</td>\n",
       "      <td>17564</td>\n",
       "      <td>2022-07-31</td>\n",
       "      <td>2022-07-31</td>\n",
       "      <td>2022-08-01</td>\n",
       "      <td>2</td>\n",
       "      <td>RT4</td>\n",
       "      <td>makeyourtrip</td>\n",
       "      <td>NaN</td>\n",
       "      <td>Cancelled</td>\n",
       "      <td>32300</td>\n",
       "      <td>12920</td>\n",
       "    </tr>\n",
       "  </tbody>\n",
       "</table>\n",
       "<p>133070 rows × 12 columns</p>\n",
       "</div>"
      ],
      "text/plain": [
       "               booking_id  property_id booking_date check_in_date  \\\n",
       "0        May012216558RT11        16558   2022-04-27    2022-05-01   \n",
       "1        May012216558RT12        16558   2022-04-30    2022-05-01   \n",
       "2        May012216558RT13        16558   2022-04-28    2022-05-01   \n",
       "3        May012216558RT14        16558   2022-04-28    2022-05-01   \n",
       "4        May012216558RT15        16558   2022-04-27    2022-05-01   \n",
       "...                   ...          ...          ...           ...   \n",
       "134584   Jul312217564RT45        17564   2022-07-30    2022-07-31   \n",
       "134585   Jul312217564RT46        17564   2022-07-29    2022-07-31   \n",
       "134587   Jul312217564RT48        17564   2022-07-30    2022-07-31   \n",
       "134588   Jul312217564RT49        17564   2022-07-29    2022-07-31   \n",
       "134589  Jul312217564RT410        17564   2022-07-31    2022-07-31   \n",
       "\n",
       "       checkout_date  no_guests room_category booking_platform  ratings_given  \\\n",
       "0         2022-05-02          3           RT1    direct online            1.0   \n",
       "1         2022-05-02          2           RT1           others            NaN   \n",
       "2         2022-05-04          2           RT1          logtrip            5.0   \n",
       "3         2022-05-02          2           RT1           others            NaN   \n",
       "4         2022-05-02          4           RT1    direct online            5.0   \n",
       "...              ...        ...           ...              ...            ...   \n",
       "134584    2022-08-01          2           RT4           others            2.0   \n",
       "134585    2022-08-03          1           RT4     makeyourtrip            2.0   \n",
       "134587    2022-08-02          1           RT4         tripster            NaN   \n",
       "134588    2022-08-01          2           RT4          logtrip            2.0   \n",
       "134589    2022-08-01          2           RT4     makeyourtrip            NaN   \n",
       "\n",
       "       booking_status  revenue_generated  revenue_realized  \n",
       "0         Checked Out              10010             10010  \n",
       "1           Cancelled               9100              3640  \n",
       "2         Checked Out               9100              9100  \n",
       "3           Cancelled               9100              3640  \n",
       "4         Checked Out              10920             10920  \n",
       "...               ...                ...               ...  \n",
       "134584    Checked Out              32300             32300  \n",
       "134585    Checked Out              32300             32300  \n",
       "134587      Cancelled              32300             12920  \n",
       "134588    Checked Out              32300             32300  \n",
       "134589      Cancelled              32300             12920  \n",
       "\n",
       "[133070 rows x 12 columns]"
      ]
     },
     "execution_count": 794,
     "metadata": {},
     "output_type": "execute_result"
    }
   ],
   "source": [
    "df_bookings"
   ]
  },
  {
   "cell_type": "code",
   "execution_count": 795,
   "id": "98cdfedd-57e6-4c37-8d26-83bef2f80897",
   "metadata": {},
   "outputs": [],
   "source": [
    "\n",
    "#df_agg_bookings['check_in_date'] = pd.to_datetime(df_agg_bookings['check_in_date'], format='%d-%b-%y')\n",
    "#df_agg_bookings['check_in_date'] = df_agg_bookings['check_in_date'].dt.strftime('%Y-%m-%d')\n",
    "df_agg_bookings['check_in_date'] = pd.to_datetime(df_agg_bookings['check_in_date'], format='mixed')\n",
    "df_agg_bookings['check_in_date'] = pd.to_datetime(df_agg_bookings['check_in_date'])\n",
    "df_agg_bookings['check_in_date'] = pd.to_datetime(df_agg_bookings['check_in_date'], format='%Y-%m-%d')"
   ]
  },
  {
   "cell_type": "code",
   "execution_count": 796,
   "id": "02c3b004-b252-4a7b-8dab-b5a07c5debce",
   "metadata": {},
   "outputs": [
    {
     "data": {
      "image/png": "[encoded data removed]",
      "text/plain": [
       "<Figure size 1200x600 with 1 Axes>"
      ]
     },
     "metadata": {},
     "output_type": "display_data"
    }
   ],
   "source": [
    "#merged_df = pd.merge(df_bookings, df_agg_bookings, on=['property_id', 'check_in_date'], how='left')\n",
    "#df_agg_bookings['booking_date'] = merged_df.groupby(['property_id', 'check_in_date'])['booking_date'].first().reset_index()['booking_date']\n",
    "# Assuming df_agg_bookings is the DataFrame you want to use\n",
    "df_agg_bookings['check_in_date'] = pd.to_datetime(df_agg_bookings['check_in_date'])\n",
    "df_agg_bookings['week_number'] = df_agg_bookings['check_in_date'].dt.isocalendar().week\n",
    "weekly_occupancy = df_agg_bookings.groupby('week_number')['occ_pct'].mean()\n",
    "\n",
    "# Create a line plot\n",
    "plt.figure(figsize=(12, 6))\n",
    "plt.plot(weekly_occupancy.index, weekly_occupancy.values)\n",
    "plt.title('Weekly Occupancy Percentage')\n",
    "plt.xlabel('Week Number')\n",
    "plt.ylabel('Occupancy Percentage')\n",
    "plt.grid(True)\n",
    "plt.show()"
   ]
  },
  {
   "cell_type": "code",
   "execution_count": 797,
   "id": "37aa7562-a1ba-49e1-b4ee-d93cdf389711",
   "metadata": {},
   "outputs": [
    {
     "data": {
      "text/html": [
       "<div>\n",
       "<style scoped>\n",
       "    .dataframe tbody tr th:only-of-type {\n",
       "        vertical-align: middle;\n",
       "    }\n",
       "\n",
       "    .dataframe tbody tr th {\n",
       "        vertical-align: top;\n",
       "    }\n",
       "\n",
       "    .dataframe thead th {\n",
       "        text-align: right;\n",
       "    }\n",
       "</style>\n",
       "<table border=\"1\" class=\"dataframe\">\n",
       "  <thead>\n",
       "    <tr style=\"text-align: right;\">\n",
       "      <th></th>\n",
       "      <th>booking_id</th>\n",
       "      <th>property_id</th>\n",
       "      <th>booking_date</th>\n",
       "      <th>check_in_date</th>\n",
       "      <th>checkout_date</th>\n",
       "      <th>no_guests</th>\n",
       "      <th>room_category</th>\n",
       "      <th>booking_platform</th>\n",
       "      <th>ratings_given</th>\n",
       "      <th>booking_status</th>\n",
       "      <th>revenue_generated</th>\n",
       "      <th>revenue_realized</th>\n",
       "    </tr>\n",
       "  </thead>\n",
       "  <tbody>\n",
       "    <tr>\n",
       "      <th>0</th>\n",
       "      <td>May012216558RT11</td>\n",
       "      <td>16558</td>\n",
       "      <td>2022-04-27</td>\n",
       "      <td>2022-05-01</td>\n",
       "      <td>2022-05-02</td>\n",
       "      <td>3</td>\n",
       "      <td>RT1</td>\n",
       "      <td>direct online</td>\n",
       "      <td>1.0</td>\n",
       "      <td>Checked Out</td>\n",
       "      <td>10010</td>\n",
       "      <td>10010</td>\n",
       "    </tr>\n",
       "    <tr>\n",
       "      <th>1</th>\n",
       "      <td>May012216558RT12</td>\n",
       "      <td>16558</td>\n",
       "      <td>2022-04-30</td>\n",
       "      <td>2022-05-01</td>\n",
       "      <td>2022-05-02</td>\n",
       "      <td>2</td>\n",
       "      <td>RT1</td>\n",
       "      <td>others</td>\n",
       "      <td>NaN</td>\n",
       "      <td>Cancelled</td>\n",
       "      <td>9100</td>\n",
       "      <td>3640</td>\n",
       "    </tr>\n",
       "    <tr>\n",
       "      <th>2</th>\n",
       "      <td>May012216558RT13</td>\n",
       "      <td>16558</td>\n",
       "      <td>2022-04-28</td>\n",
       "      <td>2022-05-01</td>\n",
       "      <td>2022-05-04</td>\n",
       "      <td>2</td>\n",
       "      <td>RT1</td>\n",
       "      <td>logtrip</td>\n",
       "      <td>5.0</td>\n",
       "      <td>Checked Out</td>\n",
       "      <td>9100</td>\n",
       "      <td>9100</td>\n",
       "    </tr>\n",
       "    <tr>\n",
       "      <th>3</th>\n",
       "      <td>May012216558RT14</td>\n",
       "      <td>16558</td>\n",
       "      <td>2022-04-28</td>\n",
       "      <td>2022-05-01</td>\n",
       "      <td>2022-05-02</td>\n",
       "      <td>2</td>\n",
       "      <td>RT1</td>\n",
       "      <td>others</td>\n",
       "      <td>NaN</td>\n",
       "      <td>Cancelled</td>\n",
       "      <td>9100</td>\n",
       "      <td>3640</td>\n",
       "    </tr>\n",
       "    <tr>\n",
       "      <th>4</th>\n",
       "      <td>May012216558RT15</td>\n",
       "      <td>16558</td>\n",
       "      <td>2022-04-27</td>\n",
       "      <td>2022-05-01</td>\n",
       "      <td>2022-05-02</td>\n",
       "      <td>4</td>\n",
       "      <td>RT1</td>\n",
       "      <td>direct online</td>\n",
       "      <td>5.0</td>\n",
       "      <td>Checked Out</td>\n",
       "      <td>10920</td>\n",
       "      <td>10920</td>\n",
       "    </tr>\n",
       "  </tbody>\n",
       "</table>\n",
       "</div>"
      ],
      "text/plain": [
       "         booking_id  property_id booking_date check_in_date checkout_date  \\\n",
       "0  May012216558RT11        16558   2022-04-27    2022-05-01    2022-05-02   \n",
       "1  May012216558RT12        16558   2022-04-30    2022-05-01    2022-05-02   \n",
       "2  May012216558RT13        16558   2022-04-28    2022-05-01    2022-05-04   \n",
       "3  May012216558RT14        16558   2022-04-28    2022-05-01    2022-05-02   \n",
       "4  May012216558RT15        16558   2022-04-27    2022-05-01    2022-05-02   \n",
       "\n",
       "   no_guests room_category booking_platform  ratings_given booking_status  \\\n",
       "0          3           RT1    direct online            1.0    Checked Out   \n",
       "1          2           RT1           others            NaN      Cancelled   \n",
       "2          2           RT1          logtrip            5.0    Checked Out   \n",
       "3          2           RT1           others            NaN      Cancelled   \n",
       "4          4           RT1    direct online            5.0    Checked Out   \n",
       "\n",
       "   revenue_generated  revenue_realized  \n",
       "0              10010             10010  \n",
       "1               9100              3640  \n",
       "2               9100              9100  \n",
       "3               9100              3640  \n",
       "4              10920             10920  "
      ]
     },
     "execution_count": 797,
     "metadata": {},
     "output_type": "execute_result"
    }
   ],
   "source": [
    "df_bookings.head()"
   ]
  },
  {
   "cell_type": "code",
   "execution_count": 798,
   "id": "5fd220ce-803c-4c37-b533-f8e2ed8ce353",
   "metadata": {},
   "outputs": [
    {
     "name": "stdout",
     "output_type": "stream",
     "text": [
      "<class 'pandas.core.frame.DataFrame'>\n",
      "RangeIndex: 9200 entries, 0 to 9199\n",
      "Data columns (total 7 columns):\n",
      " #   Column               Non-Null Count  Dtype         \n",
      "---  ------               --------------  -----         \n",
      " 0   property_id          9200 non-null   int64         \n",
      " 1   check_in_date        9200 non-null   datetime64[ns]\n",
      " 2   room_category        9200 non-null   object        \n",
      " 3   successful_bookings  9200 non-null   int64         \n",
      " 4   capacity             9200 non-null   int64         \n",
      " 5   occ_pct              9200 non-null   float64       \n",
      " 6   week_number          9200 non-null   UInt32        \n",
      "dtypes: UInt32(1), datetime64[ns](1), float64(1), int64(3), object(1)\n",
      "memory usage: 476.3+ KB\n"
     ]
    }
   ],
   "source": [
    "df_agg_bookings.info()"
   ]
  },
  {
   "cell_type": "code",
   "execution_count": 799,
   "id": "f7d8c847-4364-417a-aa7d-61fac80938cf",
   "metadata": {},
   "outputs": [
    {
     "data": {
      "text/plain": [
       "0       83.33\n",
       "1       93.33\n",
       "2       76.67\n",
       "3       68.42\n",
       "4       94.74\n",
       "        ...  \n",
       "9195    72.22\n",
       "9196    72.22\n",
       "9197    50.00\n",
       "9198    50.00\n",
       "9199    75.00\n",
       "Name: occ_pct, Length: 9200, dtype: float64"
      ]
     },
     "execution_count": 799,
     "metadata": {},
     "output_type": "execute_result"
    }
   ],
   "source": [
    "df_agg_bookings['occ_pct']"
   ]
  },
  {
   "cell_type": "code",
   "execution_count": 800,
   "id": "22da0507-ab43-4931-ad2b-9cf7603183b3",
   "metadata": {},
   "outputs": [],
   "source": [
    "#INSIGHTS GENERATION"
   ]
  },
  {
   "cell_type": "code",
   "execution_count": null,
   "id": "414d8619-f7f5-4cfb-b2d1-a87c0094f2a9",
   "metadata": {},
   "outputs": [],
   "source": []
  },
  {
   "cell_type": "code",
   "execution_count": 801,
   "id": "36fe2ec6-8399-4f30-89ec-f548f46db5a4",
   "metadata": {},
   "outputs": [],
   "source": [
    "#To find the average occupancy rate in each room category"
   ]
  },
  {
   "cell_type": "code",
   "execution_count": 802,
   "id": "d776eb2b-03a9-47da-b37a-4690b52480da",
   "metadata": {},
   "outputs": [
    {
     "data": {
      "text/html": [
       "<div>\n",
       "<style scoped>\n",
       "    .dataframe tbody tr th:only-of-type {\n",
       "        vertical-align: middle;\n",
       "    }\n",
       "\n",
       "    .dataframe tbody tr th {\n",
       "        vertical-align: top;\n",
       "    }\n",
       "\n",
       "    .dataframe thead th {\n",
       "        text-align: right;\n",
       "    }\n",
       "</style>\n",
       "<table border=\"1\" class=\"dataframe\">\n",
       "  <thead>\n",
       "    <tr style=\"text-align: right;\">\n",
       "      <th></th>\n",
       "      <th>property_id</th>\n",
       "      <th>check_in_date</th>\n",
       "      <th>room_category</th>\n",
       "      <th>successful_bookings</th>\n",
       "      <th>capacity</th>\n",
       "      <th>occ_pct</th>\n",
       "      <th>week_number</th>\n",
       "    </tr>\n",
       "  </thead>\n",
       "  <tbody>\n",
       "    <tr>\n",
       "      <th>0</th>\n",
       "      <td>16559</td>\n",
       "      <td>2022-05-01</td>\n",
       "      <td>RT1</td>\n",
       "      <td>25</td>\n",
       "      <td>30</td>\n",
       "      <td>83.33</td>\n",
       "      <td>17</td>\n",
       "    </tr>\n",
       "    <tr>\n",
       "      <th>1</th>\n",
       "      <td>19562</td>\n",
       "      <td>2022-05-01</td>\n",
       "      <td>RT1</td>\n",
       "      <td>28</td>\n",
       "      <td>30</td>\n",
       "      <td>93.33</td>\n",
       "      <td>17</td>\n",
       "    </tr>\n",
       "    <tr>\n",
       "      <th>2</th>\n",
       "      <td>19563</td>\n",
       "      <td>2022-05-01</td>\n",
       "      <td>RT1</td>\n",
       "      <td>23</td>\n",
       "      <td>30</td>\n",
       "      <td>76.67</td>\n",
       "      <td>17</td>\n",
       "    </tr>\n",
       "  </tbody>\n",
       "</table>\n",
       "</div>"
      ],
      "text/plain": [
       "   property_id check_in_date room_category  successful_bookings  capacity  \\\n",
       "0        16559    2022-05-01           RT1                   25        30   \n",
       "1        19562    2022-05-01           RT1                   28        30   \n",
       "2        19563    2022-05-01           RT1                   23        30   \n",
       "\n",
       "   occ_pct  week_number  \n",
       "0    83.33           17  \n",
       "1    93.33           17  \n",
       "2    76.67           17  "
      ]
     },
     "execution_count": 802,
     "metadata": {},
     "output_type": "execute_result"
    }
   ],
   "source": [
    "df_agg_bookings.head(3)"
   ]
  },
  {
   "cell_type": "code",
   "execution_count": 803,
   "id": "a639bf0b-f96c-40f4-b1d4-79a8f5d72574",
   "metadata": {},
   "outputs": [
    {
     "data": {
      "text/plain": [
       "room_category\n",
       "RT1    57.919022\n",
       "RT2    58.007948\n",
       "RT3    58.028213\n",
       "RT4    59.278722\n",
       "Name: occ_pct, dtype: float64"
      ]
     },
     "execution_count": 803,
     "metadata": {},
     "output_type": "execute_result"
    }
   ],
   "source": [
    "df_agg_bookings.groupby(\"room_category\")[\"occ_pct\"].mean()"
   ]
  },
  {
   "cell_type": "code",
   "execution_count": 804,
   "id": "7e7f09a8-f1b7-47c9-b72a-7d36d65fa549",
   "metadata": {},
   "outputs": [
    {
     "data": {
      "text/html": [
       "<div>\n",
       "<style scoped>\n",
       "    .dataframe tbody tr th:only-of-type {\n",
       "        vertical-align: middle;\n",
       "    }\n",
       "\n",
       "    .dataframe tbody tr th {\n",
       "        vertical-align: top;\n",
       "    }\n",
       "\n",
       "    .dataframe thead th {\n",
       "        text-align: right;\n",
       "    }\n",
       "</style>\n",
       "<table border=\"1\" class=\"dataframe\">\n",
       "  <thead>\n",
       "    <tr style=\"text-align: right;\">\n",
       "      <th></th>\n",
       "      <th>property_id</th>\n",
       "      <th>check_in_date</th>\n",
       "      <th>room_category</th>\n",
       "      <th>successful_bookings</th>\n",
       "      <th>capacity</th>\n",
       "      <th>occ_pct</th>\n",
       "      <th>week_number</th>\n",
       "      <th>room_id</th>\n",
       "      <th>room_class</th>\n",
       "    </tr>\n",
       "  </thead>\n",
       "  <tbody>\n",
       "    <tr>\n",
       "      <th>0</th>\n",
       "      <td>16559</td>\n",
       "      <td>2022-05-01</td>\n",
       "      <td>RT1</td>\n",
       "      <td>25</td>\n",
       "      <td>30</td>\n",
       "      <td>83.33</td>\n",
       "      <td>17</td>\n",
       "      <td>RT1</td>\n",
       "      <td>Standard</td>\n",
       "    </tr>\n",
       "    <tr>\n",
       "      <th>1</th>\n",
       "      <td>19562</td>\n",
       "      <td>2022-05-01</td>\n",
       "      <td>RT1</td>\n",
       "      <td>28</td>\n",
       "      <td>30</td>\n",
       "      <td>93.33</td>\n",
       "      <td>17</td>\n",
       "      <td>RT1</td>\n",
       "      <td>Standard</td>\n",
       "    </tr>\n",
       "    <tr>\n",
       "      <th>2</th>\n",
       "      <td>19563</td>\n",
       "      <td>2022-05-01</td>\n",
       "      <td>RT1</td>\n",
       "      <td>23</td>\n",
       "      <td>30</td>\n",
       "      <td>76.67</td>\n",
       "      <td>17</td>\n",
       "      <td>RT1</td>\n",
       "      <td>Standard</td>\n",
       "    </tr>\n",
       "    <tr>\n",
       "      <th>3</th>\n",
       "      <td>17558</td>\n",
       "      <td>2022-05-01</td>\n",
       "      <td>RT1</td>\n",
       "      <td>13</td>\n",
       "      <td>19</td>\n",
       "      <td>68.42</td>\n",
       "      <td>17</td>\n",
       "      <td>RT1</td>\n",
       "      <td>Standard</td>\n",
       "    </tr>\n",
       "  </tbody>\n",
       "</table>\n",
       "</div>"
      ],
      "text/plain": [
       "   property_id check_in_date room_category  successful_bookings  capacity  \\\n",
       "0        16559    2022-05-01           RT1                   25        30   \n",
       "1        19562    2022-05-01           RT1                   28        30   \n",
       "2        19563    2022-05-01           RT1                   23        30   \n",
       "3        17558    2022-05-01           RT1                   13        19   \n",
       "\n",
       "   occ_pct  week_number room_id room_class  \n",
       "0    83.33           17     RT1   Standard  \n",
       "1    93.33           17     RT1   Standard  \n",
       "2    76.67           17     RT1   Standard  \n",
       "3    68.42           17     RT1   Standard  "
      ]
     },
     "execution_count": 804,
     "metadata": {},
     "output_type": "execute_result"
    }
   ],
   "source": [
    "#Printing by room category\n",
    "\n",
    "df = pd.merge(df_agg_bookings, df_rooms, left_on=\"room_category\", right_on=\"room_id\")\n",
    "df.head(4)"
   ]
  },
  {
   "cell_type": "code",
   "execution_count": 805,
   "id": "a2674845-9b39-4525-a358-3dcc15ebc177",
   "metadata": {},
   "outputs": [
    {
     "data": {
      "text/html": [
       "<div>\n",
       "<style scoped>\n",
       "    .dataframe tbody tr th:only-of-type {\n",
       "        vertical-align: middle;\n",
       "    }\n",
       "\n",
       "    .dataframe tbody tr th {\n",
       "        vertical-align: top;\n",
       "    }\n",
       "\n",
       "    .dataframe thead th {\n",
       "        text-align: right;\n",
       "    }\n",
       "</style>\n",
       "<table border=\"1\" class=\"dataframe\">\n",
       "  <thead>\n",
       "    <tr style=\"text-align: right;\">\n",
       "      <th></th>\n",
       "      <th>property_id</th>\n",
       "      <th>check_in_date</th>\n",
       "      <th>room_category</th>\n",
       "      <th>successful_bookings</th>\n",
       "      <th>capacity</th>\n",
       "      <th>occ_pct</th>\n",
       "      <th>week_number</th>\n",
       "      <th>room_class</th>\n",
       "    </tr>\n",
       "  </thead>\n",
       "  <tbody>\n",
       "    <tr>\n",
       "      <th>0</th>\n",
       "      <td>16559</td>\n",
       "      <td>2022-05-01</td>\n",
       "      <td>RT1</td>\n",
       "      <td>25</td>\n",
       "      <td>30</td>\n",
       "      <td>83.33</td>\n",
       "      <td>17</td>\n",
       "      <td>Standard</td>\n",
       "    </tr>\n",
       "    <tr>\n",
       "      <th>1</th>\n",
       "      <td>19562</td>\n",
       "      <td>2022-05-01</td>\n",
       "      <td>RT1</td>\n",
       "      <td>28</td>\n",
       "      <td>30</td>\n",
       "      <td>93.33</td>\n",
       "      <td>17</td>\n",
       "      <td>Standard</td>\n",
       "    </tr>\n",
       "    <tr>\n",
       "      <th>2</th>\n",
       "      <td>19563</td>\n",
       "      <td>2022-05-01</td>\n",
       "      <td>RT1</td>\n",
       "      <td>23</td>\n",
       "      <td>30</td>\n",
       "      <td>76.67</td>\n",
       "      <td>17</td>\n",
       "      <td>Standard</td>\n",
       "    </tr>\n",
       "    <tr>\n",
       "      <th>3</th>\n",
       "      <td>17558</td>\n",
       "      <td>2022-05-01</td>\n",
       "      <td>RT1</td>\n",
       "      <td>13</td>\n",
       "      <td>19</td>\n",
       "      <td>68.42</td>\n",
       "      <td>17</td>\n",
       "      <td>Standard</td>\n",
       "    </tr>\n",
       "  </tbody>\n",
       "</table>\n",
       "</div>"
      ],
      "text/plain": [
       "   property_id check_in_date room_category  successful_bookings  capacity  \\\n",
       "0        16559    2022-05-01           RT1                   25        30   \n",
       "1        19562    2022-05-01           RT1                   28        30   \n",
       "2        19563    2022-05-01           RT1                   23        30   \n",
       "3        17558    2022-05-01           RT1                   13        19   \n",
       "\n",
       "   occ_pct  week_number room_class  \n",
       "0    83.33           17   Standard  \n",
       "1    93.33           17   Standard  \n",
       "2    76.67           17   Standard  \n",
       "3    68.42           17   Standard  "
      ]
     },
     "execution_count": 805,
     "metadata": {},
     "output_type": "execute_result"
    }
   ],
   "source": [
    "df.drop(\"room_id\",axis=1, inplace=True)\n",
    "df.head(4)"
   ]
  },
  {
   "cell_type": "code",
   "execution_count": 806,
   "id": "155ddb3a-ea03-4218-bd35-3a6650b34e62",
   "metadata": {},
   "outputs": [
    {
     "data": {
      "text/plain": [
       "room_class\n",
       "Elite           58.007948\n",
       "Premium         58.028213\n",
       "Presidential    59.278722\n",
       "Standard        57.919022\n",
       "Name: occ_pct, dtype: float64"
      ]
     },
     "execution_count": 806,
     "metadata": {},
     "output_type": "execute_result"
    }
   ],
   "source": [
    "df.groupby(\"room_class\")[\"occ_pct\"].mean()"
   ]
  },
  {
   "cell_type": "code",
   "execution_count": 807,
   "id": "5038fce7-8936-4a3c-85d1-7418f7488837",
   "metadata": {},
   "outputs": [
    {
     "data": {
      "text/plain": [
       "np.float64(57.919021739130436)"
      ]
     },
     "execution_count": 807,
     "metadata": {},
     "output_type": "execute_result"
    }
   ],
   "source": [
    "df[df.room_class==\"Standard\"].occ_pct.mean()"
   ]
  },
  {
   "cell_type": "code",
   "execution_count": null,
   "id": "b129f5b2-d5f8-4f11-98d7-52eb10ddb972",
   "metadata": {},
   "outputs": [],
   "source": []
  },
  {
   "cell_type": "code",
   "execution_count": 808,
   "id": "f8a83b2d-8209-4ac6-8970-d7c7fa0d454a",
   "metadata": {},
   "outputs": [],
   "source": [
    "#Printing average occupancy rate per city"
   ]
  },
  {
   "cell_type": "code",
   "execution_count": 809,
   "id": "64c38fa2-0ee0-4ded-9877-a71a889347b6",
   "metadata": {},
   "outputs": [
    {
     "data": {
      "text/html": [
       "<div>\n",
       "<style scoped>\n",
       "    .dataframe tbody tr th:only-of-type {\n",
       "        vertical-align: middle;\n",
       "    }\n",
       "\n",
       "    .dataframe tbody tr th {\n",
       "        vertical-align: top;\n",
       "    }\n",
       "\n",
       "    .dataframe thead th {\n",
       "        text-align: right;\n",
       "    }\n",
       "</style>\n",
       "<table border=\"1\" class=\"dataframe\">\n",
       "  <thead>\n",
       "    <tr style=\"text-align: right;\">\n",
       "      <th></th>\n",
       "      <th>property_id</th>\n",
       "      <th>property_name</th>\n",
       "      <th>category</th>\n",
       "      <th>city</th>\n",
       "    </tr>\n",
       "  </thead>\n",
       "  <tbody>\n",
       "    <tr>\n",
       "      <th>0</th>\n",
       "      <td>16558</td>\n",
       "      <td>Atliq Grands</td>\n",
       "      <td>Luxury</td>\n",
       "      <td>Delhi</td>\n",
       "    </tr>\n",
       "    <tr>\n",
       "      <th>1</th>\n",
       "      <td>16559</td>\n",
       "      <td>Atliq Exotica</td>\n",
       "      <td>Luxury</td>\n",
       "      <td>Mumbai</td>\n",
       "    </tr>\n",
       "    <tr>\n",
       "      <th>2</th>\n",
       "      <td>16560</td>\n",
       "      <td>Atliq City</td>\n",
       "      <td>Business</td>\n",
       "      <td>Delhi</td>\n",
       "    </tr>\n",
       "  </tbody>\n",
       "</table>\n",
       "</div>"
      ],
      "text/plain": [
       "   property_id  property_name  category    city\n",
       "0        16558   Atliq Grands    Luxury   Delhi\n",
       "1        16559  Atliq Exotica    Luxury  Mumbai\n",
       "2        16560     Atliq City  Business   Delhi"
      ]
     },
     "execution_count": 809,
     "metadata": {},
     "output_type": "execute_result"
    }
   ],
   "source": [
    "df_hotels.head(3)"
   ]
  },
  {
   "cell_type": "code",
   "execution_count": 810,
   "id": "9a25426d-dc43-4d00-8c8a-631ae47a2a2b",
   "metadata": {},
   "outputs": [
    {
     "data": {
      "text/html": [
       "<div>\n",
       "<style scoped>\n",
       "    .dataframe tbody tr th:only-of-type {\n",
       "        vertical-align: middle;\n",
       "    }\n",
       "\n",
       "    .dataframe tbody tr th {\n",
       "        vertical-align: top;\n",
       "    }\n",
       "\n",
       "    .dataframe thead th {\n",
       "        text-align: right;\n",
       "    }\n",
       "</style>\n",
       "<table border=\"1\" class=\"dataframe\">\n",
       "  <thead>\n",
       "    <tr style=\"text-align: right;\">\n",
       "      <th></th>\n",
       "      <th>property_id</th>\n",
       "      <th>check_in_date</th>\n",
       "      <th>room_category</th>\n",
       "      <th>successful_bookings</th>\n",
       "      <th>capacity</th>\n",
       "      <th>occ_pct</th>\n",
       "      <th>week_number</th>\n",
       "      <th>room_class</th>\n",
       "      <th>property_name</th>\n",
       "      <th>category</th>\n",
       "      <th>city</th>\n",
       "    </tr>\n",
       "  </thead>\n",
       "  <tbody>\n",
       "    <tr>\n",
       "      <th>0</th>\n",
       "      <td>16559</td>\n",
       "      <td>2022-05-01</td>\n",
       "      <td>RT1</td>\n",
       "      <td>25</td>\n",
       "      <td>30</td>\n",
       "      <td>83.33</td>\n",
       "      <td>17</td>\n",
       "      <td>Standard</td>\n",
       "      <td>Atliq Exotica</td>\n",
       "      <td>Luxury</td>\n",
       "      <td>Mumbai</td>\n",
       "    </tr>\n",
       "    <tr>\n",
       "      <th>1</th>\n",
       "      <td>19562</td>\n",
       "      <td>2022-05-01</td>\n",
       "      <td>RT1</td>\n",
       "      <td>28</td>\n",
       "      <td>30</td>\n",
       "      <td>93.33</td>\n",
       "      <td>17</td>\n",
       "      <td>Standard</td>\n",
       "      <td>Atliq Bay</td>\n",
       "      <td>Luxury</td>\n",
       "      <td>Bangalore</td>\n",
       "    </tr>\n",
       "    <tr>\n",
       "      <th>2</th>\n",
       "      <td>19563</td>\n",
       "      <td>2022-05-01</td>\n",
       "      <td>RT1</td>\n",
       "      <td>23</td>\n",
       "      <td>30</td>\n",
       "      <td>76.67</td>\n",
       "      <td>17</td>\n",
       "      <td>Standard</td>\n",
       "      <td>Atliq Palace</td>\n",
       "      <td>Business</td>\n",
       "      <td>Bangalore</td>\n",
       "    </tr>\n",
       "  </tbody>\n",
       "</table>\n",
       "</div>"
      ],
      "text/plain": [
       "   property_id check_in_date room_category  successful_bookings  capacity  \\\n",
       "0        16559    2022-05-01           RT1                   25        30   \n",
       "1        19562    2022-05-01           RT1                   28        30   \n",
       "2        19563    2022-05-01           RT1                   23        30   \n",
       "\n",
       "   occ_pct  week_number room_class  property_name  category       city  \n",
       "0    83.33           17   Standard  Atliq Exotica    Luxury     Mumbai  \n",
       "1    93.33           17   Standard      Atliq Bay    Luxury  Bangalore  \n",
       "2    76.67           17   Standard   Atliq Palace  Business  Bangalore  "
      ]
     },
     "execution_count": 810,
     "metadata": {},
     "output_type": "execute_result"
    }
   ],
   "source": [
    "df = pd.merge(df, df_hotels, on=\"property_id\")\n",
    "df.head(3)"
   ]
  },
  {
   "cell_type": "code",
   "execution_count": 811,
   "id": "cff799a2-682d-404d-a1b5-24a966270d12",
   "metadata": {},
   "outputs": [
    {
     "data": {
      "text/plain": [
       "city\n",
       "Bangalore    56.341046\n",
       "Delhi        61.521630\n",
       "Hyderabad    58.122006\n",
       "Mumbai       57.915679\n",
       "Name: occ_pct, dtype: float64"
      ]
     },
     "execution_count": 811,
     "metadata": {},
     "output_type": "execute_result"
    }
   ],
   "source": [
    "df.groupby(\"city\")[\"occ_pct\"].mean()"
   ]
  },
  {
   "cell_type": "code",
   "execution_count": null,
   "id": "38fbed77-c9e2-4476-8e80-8475f5f183b4",
   "metadata": {},
   "outputs": [],
   "source": []
  },
  {
   "cell_type": "code",
   "execution_count": 812,
   "id": "cb32c93f-27e0-4e75-8380-844039c3682d",
   "metadata": {},
   "outputs": [],
   "source": [
    "#Checking when occupancy is better:-weekday or weekend"
   ]
  },
  {
   "cell_type": "code",
   "execution_count": 813,
   "id": "a997c956-2781-4bf9-a61a-20a6ea9544e2",
   "metadata": {},
   "outputs": [
    {
     "data": {
      "text/html": [
       "<div>\n",
       "<style scoped>\n",
       "    .dataframe tbody tr th:only-of-type {\n",
       "        vertical-align: middle;\n",
       "    }\n",
       "\n",
       "    .dataframe tbody tr th {\n",
       "        vertical-align: top;\n",
       "    }\n",
       "\n",
       "    .dataframe thead th {\n",
       "        text-align: right;\n",
       "    }\n",
       "</style>\n",
       "<table border=\"1\" class=\"dataframe\">\n",
       "  <thead>\n",
       "    <tr style=\"text-align: right;\">\n",
       "      <th></th>\n",
       "      <th>date</th>\n",
       "      <th>mmm yy</th>\n",
       "      <th>week no</th>\n",
       "      <th>day_type</th>\n",
       "    </tr>\n",
       "  </thead>\n",
       "  <tbody>\n",
       "    <tr>\n",
       "      <th>0</th>\n",
       "      <td>01-May-22</td>\n",
       "      <td>May 22</td>\n",
       "      <td>W 19</td>\n",
       "      <td>weekend</td>\n",
       "    </tr>\n",
       "    <tr>\n",
       "      <th>1</th>\n",
       "      <td>02-May-22</td>\n",
       "      <td>May 22</td>\n",
       "      <td>W 19</td>\n",
       "      <td>weekeday</td>\n",
       "    </tr>\n",
       "    <tr>\n",
       "      <th>2</th>\n",
       "      <td>03-May-22</td>\n",
       "      <td>May 22</td>\n",
       "      <td>W 19</td>\n",
       "      <td>weekeday</td>\n",
       "    </tr>\n",
       "  </tbody>\n",
       "</table>\n",
       "</div>"
      ],
      "text/plain": [
       "        date  mmm yy week no  day_type\n",
       "0  01-May-22  May 22    W 19   weekend\n",
       "1  02-May-22  May 22    W 19  weekeday\n",
       "2  03-May-22  May 22    W 19  weekeday"
      ]
     },
     "execution_count": 813,
     "metadata": {},
     "output_type": "execute_result"
    }
   ],
   "source": [
    "df_date.head(3)"
   ]
  },
  {
   "cell_type": "code",
   "execution_count": 814,
   "id": "45699773-fd36-455b-9de9-12e9bcdd0559",
   "metadata": {},
   "outputs": [
    {
     "data": {
      "text/html": [
       "<div>\n",
       "<style scoped>\n",
       "    .dataframe tbody tr th:only-of-type {\n",
       "        vertical-align: middle;\n",
       "    }\n",
       "\n",
       "    .dataframe tbody tr th {\n",
       "        vertical-align: top;\n",
       "    }\n",
       "\n",
       "    .dataframe thead th {\n",
       "        text-align: right;\n",
       "    }\n",
       "</style>\n",
       "<table border=\"1\" class=\"dataframe\">\n",
       "  <thead>\n",
       "    <tr style=\"text-align: right;\">\n",
       "      <th></th>\n",
       "      <th>property_id</th>\n",
       "      <th>check_in_date</th>\n",
       "      <th>room_category</th>\n",
       "      <th>successful_bookings</th>\n",
       "      <th>capacity</th>\n",
       "      <th>occ_pct</th>\n",
       "      <th>week_number</th>\n",
       "      <th>room_class</th>\n",
       "      <th>property_name</th>\n",
       "      <th>category</th>\n",
       "      <th>city</th>\n",
       "      <th>date</th>\n",
       "      <th>mmm yy</th>\n",
       "      <th>week no</th>\n",
       "      <th>day_type</th>\n",
       "    </tr>\n",
       "  </thead>\n",
       "  <tbody>\n",
       "    <tr>\n",
       "      <th>0</th>\n",
       "      <td>16559</td>\n",
       "      <td>2022-05-01</td>\n",
       "      <td>RT1</td>\n",
       "      <td>25</td>\n",
       "      <td>30</td>\n",
       "      <td>83.33</td>\n",
       "      <td>17</td>\n",
       "      <td>Standard</td>\n",
       "      <td>Atliq Exotica</td>\n",
       "      <td>Luxury</td>\n",
       "      <td>Mumbai</td>\n",
       "      <td>2022-05-01</td>\n",
       "      <td>May 22</td>\n",
       "      <td>W 19</td>\n",
       "      <td>weekend</td>\n",
       "    </tr>\n",
       "    <tr>\n",
       "      <th>1</th>\n",
       "      <td>19562</td>\n",
       "      <td>2022-05-01</td>\n",
       "      <td>RT1</td>\n",
       "      <td>28</td>\n",
       "      <td>30</td>\n",
       "      <td>93.33</td>\n",
       "      <td>17</td>\n",
       "      <td>Standard</td>\n",
       "      <td>Atliq Bay</td>\n",
       "      <td>Luxury</td>\n",
       "      <td>Bangalore</td>\n",
       "      <td>2022-05-01</td>\n",
       "      <td>May 22</td>\n",
       "      <td>W 19</td>\n",
       "      <td>weekend</td>\n",
       "    </tr>\n",
       "    <tr>\n",
       "      <th>2</th>\n",
       "      <td>19563</td>\n",
       "      <td>2022-05-01</td>\n",
       "      <td>RT1</td>\n",
       "      <td>23</td>\n",
       "      <td>30</td>\n",
       "      <td>76.67</td>\n",
       "      <td>17</td>\n",
       "      <td>Standard</td>\n",
       "      <td>Atliq Palace</td>\n",
       "      <td>Business</td>\n",
       "      <td>Bangalore</td>\n",
       "      <td>2022-05-01</td>\n",
       "      <td>May 22</td>\n",
       "      <td>W 19</td>\n",
       "      <td>weekend</td>\n",
       "    </tr>\n",
       "  </tbody>\n",
       "</table>\n",
       "</div>"
      ],
      "text/plain": [
       "   property_id check_in_date room_category  successful_bookings  capacity  \\\n",
       "0        16559    2022-05-01           RT1                   25        30   \n",
       "1        19562    2022-05-01           RT1                   28        30   \n",
       "2        19563    2022-05-01           RT1                   23        30   \n",
       "\n",
       "   occ_pct  week_number room_class  property_name  category       city  \\\n",
       "0    83.33           17   Standard  Atliq Exotica    Luxury     Mumbai   \n",
       "1    93.33           17   Standard      Atliq Bay    Luxury  Bangalore   \n",
       "2    76.67           17   Standard   Atliq Palace  Business  Bangalore   \n",
       "\n",
       "        date  mmm yy week no day_type  \n",
       "0 2022-05-01  May 22    W 19  weekend  \n",
       "1 2022-05-01  May 22    W 19  weekend  \n",
       "2 2022-05-01  May 22    W 19  weekend  "
      ]
     },
     "execution_count": 814,
     "metadata": {},
     "output_type": "execute_result"
    }
   ],
   "source": [
    "# Convert 'date' column in df_date to datetime with specified format\n",
    "df_date['date'] = pd.to_datetime(df_date['date'], format='%d-%b-%y')\n",
    "\n",
    "# Now perform the merge\n",
    "df = pd.merge(df, df_date, left_on=\"check_in_date\", right_on=\"date\")\n",
    "df.head(3)"
   ]
  },
  {
   "cell_type": "code",
   "execution_count": 815,
   "id": "2b7a69e5-141f-49e3-adb8-e3021eeec251",
   "metadata": {},
   "outputs": [
    {
     "name": "stdout",
     "output_type": "stream",
     "text": [
      "day_type\n",
      "weekeday    51.81\n",
      "weekend     73.96\n",
      "Name: occ_pct, dtype: float64\n"
     ]
    }
   ],
   "source": [
    "# Convert 'check_in_date' in df to datetime if it's not already\n",
    "df['check_in_date'] = pd.to_datetime(df['check_in_date'])\n",
    "\n",
    "# Convert 'date' in df_date to datetime if it's not already\n",
    "df_date['date'] = pd.to_datetime(df_date['date'])\n",
    "\n",
    "# Now perform the merge with suffixes to avoid duplicate column names\n",
    "df = pd.merge(df, df_date, left_on=\"check_in_date\", right_on=\"date\", suffixes=('', '_y'))\n",
    "\n",
    "# Drop the duplicate columns\n",
    "columns_to_drop = [col for col in df.columns if col.endswith('_y')]\n",
    "df = df.drop(columns=columns_to_drop)\n",
    "\n",
    "# Now you can calculate the average occupancy by day type\n",
    "result = df.groupby(\"day_type\")[\"occ_pct\"].mean().round(2)\n",
    "print(result)"
   ]
  },
  {
   "cell_type": "code",
   "execution_count": null,
   "id": "da085eba-02b4-4e83-aef4-ee38f141ebe4",
   "metadata": {},
   "outputs": [],
   "source": []
  },
  {
   "cell_type": "code",
   "execution_count": 816,
   "id": "6b17ddc2-82c8-4043-8abb-ae6d92f9f46b",
   "metadata": {},
   "outputs": [],
   "source": [
    "#checking for occupancy rate in different cities in month of june"
   ]
  },
  {
   "cell_type": "code",
   "execution_count": 817,
   "id": "f5197caa-889f-44f5-aebb-402e8274aa1c",
   "metadata": {},
   "outputs": [
    {
     "data": {
      "text/html": [
       "<div>\n",
       "<style scoped>\n",
       "    .dataframe tbody tr th:only-of-type {\n",
       "        vertical-align: middle;\n",
       "    }\n",
       "\n",
       "    .dataframe tbody tr th {\n",
       "        vertical-align: top;\n",
       "    }\n",
       "\n",
       "    .dataframe thead th {\n",
       "        text-align: right;\n",
       "    }\n",
       "</style>\n",
       "<table border=\"1\" class=\"dataframe\">\n",
       "  <thead>\n",
       "    <tr style=\"text-align: right;\">\n",
       "      <th></th>\n",
       "      <th>property_id</th>\n",
       "      <th>check_in_date</th>\n",
       "      <th>room_category</th>\n",
       "      <th>successful_bookings</th>\n",
       "      <th>capacity</th>\n",
       "      <th>occ_pct</th>\n",
       "      <th>week_number</th>\n",
       "      <th>room_class</th>\n",
       "      <th>property_name</th>\n",
       "      <th>category</th>\n",
       "      <th>city</th>\n",
       "      <th>date</th>\n",
       "      <th>mmm yy</th>\n",
       "      <th>week no</th>\n",
       "      <th>day_type</th>\n",
       "    </tr>\n",
       "  </thead>\n",
       "  <tbody>\n",
       "    <tr>\n",
       "      <th>3100</th>\n",
       "      <td>16559</td>\n",
       "      <td>2022-06-01</td>\n",
       "      <td>RT1</td>\n",
       "      <td>14</td>\n",
       "      <td>30</td>\n",
       "      <td>46.67</td>\n",
       "      <td>22</td>\n",
       "      <td>Standard</td>\n",
       "      <td>Atliq Exotica</td>\n",
       "      <td>Luxury</td>\n",
       "      <td>Mumbai</td>\n",
       "      <td>2022-06-01</td>\n",
       "      <td>Jun 22</td>\n",
       "      <td>W 23</td>\n",
       "      <td>weekeday</td>\n",
       "    </tr>\n",
       "    <tr>\n",
       "      <th>3101</th>\n",
       "      <td>18560</td>\n",
       "      <td>2022-06-01</td>\n",
       "      <td>RT1</td>\n",
       "      <td>18</td>\n",
       "      <td>30</td>\n",
       "      <td>60.00</td>\n",
       "      <td>22</td>\n",
       "      <td>Standard</td>\n",
       "      <td>Atliq City</td>\n",
       "      <td>Business</td>\n",
       "      <td>Hyderabad</td>\n",
       "      <td>2022-06-01</td>\n",
       "      <td>Jun 22</td>\n",
       "      <td>W 23</td>\n",
       "      <td>weekeday</td>\n",
       "    </tr>\n",
       "    <tr>\n",
       "      <th>3102</th>\n",
       "      <td>19562</td>\n",
       "      <td>2022-06-01</td>\n",
       "      <td>RT1</td>\n",
       "      <td>18</td>\n",
       "      <td>30</td>\n",
       "      <td>60.00</td>\n",
       "      <td>22</td>\n",
       "      <td>Standard</td>\n",
       "      <td>Atliq Bay</td>\n",
       "      <td>Luxury</td>\n",
       "      <td>Bangalore</td>\n",
       "      <td>2022-06-01</td>\n",
       "      <td>Jun 22</td>\n",
       "      <td>W 23</td>\n",
       "      <td>weekeday</td>\n",
       "    </tr>\n",
       "    <tr>\n",
       "      <th>3103</th>\n",
       "      <td>19563</td>\n",
       "      <td>2022-06-01</td>\n",
       "      <td>RT1</td>\n",
       "      <td>14</td>\n",
       "      <td>30</td>\n",
       "      <td>46.67</td>\n",
       "      <td>22</td>\n",
       "      <td>Standard</td>\n",
       "      <td>Atliq Palace</td>\n",
       "      <td>Business</td>\n",
       "      <td>Bangalore</td>\n",
       "      <td>2022-06-01</td>\n",
       "      <td>Jun 22</td>\n",
       "      <td>W 23</td>\n",
       "      <td>weekeday</td>\n",
       "    </tr>\n",
       "  </tbody>\n",
       "</table>\n",
       "</div>"
      ],
      "text/plain": [
       "      property_id check_in_date room_category  successful_bookings  capacity  \\\n",
       "3100        16559    2022-06-01           RT1                   14        30   \n",
       "3101        18560    2022-06-01           RT1                   18        30   \n",
       "3102        19562    2022-06-01           RT1                   18        30   \n",
       "3103        19563    2022-06-01           RT1                   14        30   \n",
       "\n",
       "      occ_pct  week_number room_class  property_name  category       city  \\\n",
       "3100    46.67           22   Standard  Atliq Exotica    Luxury     Mumbai   \n",
       "3101    60.00           22   Standard     Atliq City  Business  Hyderabad   \n",
       "3102    60.00           22   Standard      Atliq Bay    Luxury  Bangalore   \n",
       "3103    46.67           22   Standard   Atliq Palace  Business  Bangalore   \n",
       "\n",
       "           date  mmm yy week no  day_type  \n",
       "3100 2022-06-01  Jun 22    W 23  weekeday  \n",
       "3101 2022-06-01  Jun 22    W 23  weekeday  \n",
       "3102 2022-06-01  Jun 22    W 23  weekeday  \n",
       "3103 2022-06-01  Jun 22    W 23  weekeday  "
      ]
     },
     "execution_count": 817,
     "metadata": {},
     "output_type": "execute_result"
    }
   ],
   "source": [
    "df_june_22 = df[df[\"mmm yy\"]==\"Jun 22\"]\n",
    "df_june_22.head(4)"
   ]
  },
  {
   "cell_type": "code",
   "execution_count": 818,
   "id": "90643d52-7a8b-43e7-bffc-ddcb6ed4d030",
   "metadata": {},
   "outputs": [
    {
     "data": {
      "text/plain": [
       "city\n",
       "Delhi        61.46\n",
       "Mumbai       57.79\n",
       "Hyderabad    57.69\n",
       "Bangalore    55.85\n",
       "Name: occ_pct, dtype: float64"
      ]
     },
     "execution_count": 818,
     "metadata": {},
     "output_type": "execute_result"
    }
   ],
   "source": [
    "df_june_22.groupby('city')['occ_pct'].mean().round(2).sort_values(ascending=False)"
   ]
  },
  {
   "cell_type": "code",
   "execution_count": 819,
   "id": "8ce8fdd6-ebfd-403a-9e94-8f7c656547e1",
   "metadata": {},
   "outputs": [
    {
     "data": {
      "text/plain": [
       "<Axes: xlabel='city'>"
      ]
     },
     "execution_count": 819,
     "metadata": {},
     "output_type": "execute_result"
    },
    {
     "data": {
      "image/png": "[encoded data removed]",
      "text/plain": [
       "<Figure size 640x480 with 1 Axes>"
      ]
     },
     "metadata": {},
     "output_type": "display_data"
    }
   ],
   "source": [
    "df_june_22.groupby('city')['occ_pct'].mean().round(2).sort_values(ascending=False).plot(kind=\"bar\")"
   ]
  },
  {
   "cell_type": "code",
   "execution_count": null,
   "id": "3560a484-8a38-40e5-82ab-fd8cdcbbc0b1",
   "metadata": {},
   "outputs": [],
   "source": []
  },
  {
   "cell_type": "code",
   "execution_count": 820,
   "id": "4e4e2d0a-cdf0-4db1-87a6-25f26c50c5f8",
   "metadata": {},
   "outputs": [],
   "source": [
    "#Printing revenue realized per city"
   ]
  },
  {
   "cell_type": "code",
   "execution_count": 821,
   "id": "aa5c7e16-2938-40eb-b59e-76d2f5ebf00e",
   "metadata": {},
   "outputs": [
    {
     "data": {
      "text/html": [
       "<div>\n",
       "<style scoped>\n",
       "    .dataframe tbody tr th:only-of-type {\n",
       "        vertical-align: middle;\n",
       "    }\n",
       "\n",
       "    .dataframe tbody tr th {\n",
       "        vertical-align: top;\n",
       "    }\n",
       "\n",
       "    .dataframe thead th {\n",
       "        text-align: right;\n",
       "    }\n",
       "</style>\n",
       "<table border=\"1\" class=\"dataframe\">\n",
       "  <thead>\n",
       "    <tr style=\"text-align: right;\">\n",
       "      <th></th>\n",
       "      <th>booking_id</th>\n",
       "      <th>property_id</th>\n",
       "      <th>booking_date</th>\n",
       "      <th>check_in_date</th>\n",
       "      <th>checkout_date</th>\n",
       "      <th>no_guests</th>\n",
       "      <th>room_category</th>\n",
       "      <th>booking_platform</th>\n",
       "      <th>ratings_given</th>\n",
       "      <th>booking_status</th>\n",
       "      <th>revenue_generated</th>\n",
       "      <th>revenue_realized</th>\n",
       "    </tr>\n",
       "  </thead>\n",
       "  <tbody>\n",
       "    <tr>\n",
       "      <th>0</th>\n",
       "      <td>May012216558RT11</td>\n",
       "      <td>16558</td>\n",
       "      <td>2022-04-27</td>\n",
       "      <td>2022-05-01</td>\n",
       "      <td>2022-05-02</td>\n",
       "      <td>3</td>\n",
       "      <td>RT1</td>\n",
       "      <td>direct online</td>\n",
       "      <td>1.0</td>\n",
       "      <td>Checked Out</td>\n",
       "      <td>10010</td>\n",
       "      <td>10010</td>\n",
       "    </tr>\n",
       "    <tr>\n",
       "      <th>1</th>\n",
       "      <td>May012216558RT12</td>\n",
       "      <td>16558</td>\n",
       "      <td>2022-04-30</td>\n",
       "      <td>2022-05-01</td>\n",
       "      <td>2022-05-02</td>\n",
       "      <td>2</td>\n",
       "      <td>RT1</td>\n",
       "      <td>others</td>\n",
       "      <td>NaN</td>\n",
       "      <td>Cancelled</td>\n",
       "      <td>9100</td>\n",
       "      <td>3640</td>\n",
       "    </tr>\n",
       "    <tr>\n",
       "      <th>2</th>\n",
       "      <td>May012216558RT13</td>\n",
       "      <td>16558</td>\n",
       "      <td>2022-04-28</td>\n",
       "      <td>2022-05-01</td>\n",
       "      <td>2022-05-04</td>\n",
       "      <td>2</td>\n",
       "      <td>RT1</td>\n",
       "      <td>logtrip</td>\n",
       "      <td>5.0</td>\n",
       "      <td>Checked Out</td>\n",
       "      <td>9100</td>\n",
       "      <td>9100</td>\n",
       "    </tr>\n",
       "    <tr>\n",
       "      <th>3</th>\n",
       "      <td>May012216558RT14</td>\n",
       "      <td>16558</td>\n",
       "      <td>2022-04-28</td>\n",
       "      <td>2022-05-01</td>\n",
       "      <td>2022-05-02</td>\n",
       "      <td>2</td>\n",
       "      <td>RT1</td>\n",
       "      <td>others</td>\n",
       "      <td>NaN</td>\n",
       "      <td>Cancelled</td>\n",
       "      <td>9100</td>\n",
       "      <td>3640</td>\n",
       "    </tr>\n",
       "    <tr>\n",
       "      <th>4</th>\n",
       "      <td>May012216558RT15</td>\n",
       "      <td>16558</td>\n",
       "      <td>2022-04-27</td>\n",
       "      <td>2022-05-01</td>\n",
       "      <td>2022-05-02</td>\n",
       "      <td>4</td>\n",
       "      <td>RT1</td>\n",
       "      <td>direct online</td>\n",
       "      <td>5.0</td>\n",
       "      <td>Checked Out</td>\n",
       "      <td>10920</td>\n",
       "      <td>10920</td>\n",
       "    </tr>\n",
       "  </tbody>\n",
       "</table>\n",
       "</div>"
      ],
      "text/plain": [
       "         booking_id  property_id booking_date check_in_date checkout_date  \\\n",
       "0  May012216558RT11        16558   2022-04-27    2022-05-01    2022-05-02   \n",
       "1  May012216558RT12        16558   2022-04-30    2022-05-01    2022-05-02   \n",
       "2  May012216558RT13        16558   2022-04-28    2022-05-01    2022-05-04   \n",
       "3  May012216558RT14        16558   2022-04-28    2022-05-01    2022-05-02   \n",
       "4  May012216558RT15        16558   2022-04-27    2022-05-01    2022-05-02   \n",
       "\n",
       "   no_guests room_category booking_platform  ratings_given booking_status  \\\n",
       "0          3           RT1    direct online            1.0    Checked Out   \n",
       "1          2           RT1           others            NaN      Cancelled   \n",
       "2          2           RT1          logtrip            5.0    Checked Out   \n",
       "3          2           RT1           others            NaN      Cancelled   \n",
       "4          4           RT1    direct online            5.0    Checked Out   \n",
       "\n",
       "   revenue_generated  revenue_realized  \n",
       "0              10010             10010  \n",
       "1               9100              3640  \n",
       "2               9100              9100  \n",
       "3               9100              3640  \n",
       "4              10920             10920  "
      ]
     },
     "execution_count": 821,
     "metadata": {},
     "output_type": "execute_result"
    }
   ],
   "source": [
    "df_bookings.head()"
   ]
  },
  {
   "cell_type": "code",
   "execution_count": 822,
   "id": "0e55a680-94c7-4e33-818c-8bef15a5501d",
   "metadata": {},
   "outputs": [
    {
     "data": {
      "text/html": [
       "<div>\n",
       "<style scoped>\n",
       "    .dataframe tbody tr th:only-of-type {\n",
       "        vertical-align: middle;\n",
       "    }\n",
       "\n",
       "    .dataframe tbody tr th {\n",
       "        vertical-align: top;\n",
       "    }\n",
       "\n",
       "    .dataframe thead th {\n",
       "        text-align: right;\n",
       "    }\n",
       "</style>\n",
       "<table border=\"1\" class=\"dataframe\">\n",
       "  <thead>\n",
       "    <tr style=\"text-align: right;\">\n",
       "      <th></th>\n",
       "      <th>property_id</th>\n",
       "      <th>property_name</th>\n",
       "      <th>category</th>\n",
       "      <th>city</th>\n",
       "    </tr>\n",
       "  </thead>\n",
       "  <tbody>\n",
       "    <tr>\n",
       "      <th>0</th>\n",
       "      <td>16558</td>\n",
       "      <td>Atliq Grands</td>\n",
       "      <td>Luxury</td>\n",
       "      <td>Delhi</td>\n",
       "    </tr>\n",
       "    <tr>\n",
       "      <th>1</th>\n",
       "      <td>16559</td>\n",
       "      <td>Atliq Exotica</td>\n",
       "      <td>Luxury</td>\n",
       "      <td>Mumbai</td>\n",
       "    </tr>\n",
       "    <tr>\n",
       "      <th>2</th>\n",
       "      <td>16560</td>\n",
       "      <td>Atliq City</td>\n",
       "      <td>Business</td>\n",
       "      <td>Delhi</td>\n",
       "    </tr>\n",
       "  </tbody>\n",
       "</table>\n",
       "</div>"
      ],
      "text/plain": [
       "   property_id  property_name  category    city\n",
       "0        16558   Atliq Grands    Luxury   Delhi\n",
       "1        16559  Atliq Exotica    Luxury  Mumbai\n",
       "2        16560     Atliq City  Business   Delhi"
      ]
     },
     "execution_count": 822,
     "metadata": {},
     "output_type": "execute_result"
    }
   ],
   "source": [
    "df_hotels.head(3)"
   ]
  },
  {
   "cell_type": "code",
   "execution_count": 823,
   "id": "fb554fad-104c-4343-a363-616a1dabe8bd",
   "metadata": {},
   "outputs": [
    {
     "data": {
      "text/html": [
       "<div>\n",
       "<style scoped>\n",
       "    .dataframe tbody tr th:only-of-type {\n",
       "        vertical-align: middle;\n",
       "    }\n",
       "\n",
       "    .dataframe tbody tr th {\n",
       "        vertical-align: top;\n",
       "    }\n",
       "\n",
       "    .dataframe thead th {\n",
       "        text-align: right;\n",
       "    }\n",
       "</style>\n",
       "<table border=\"1\" class=\"dataframe\">\n",
       "  <thead>\n",
       "    <tr style=\"text-align: right;\">\n",
       "      <th></th>\n",
       "      <th>booking_id</th>\n",
       "      <th>property_id</th>\n",
       "      <th>booking_date</th>\n",
       "      <th>check_in_date</th>\n",
       "      <th>checkout_date</th>\n",
       "      <th>no_guests</th>\n",
       "      <th>room_category</th>\n",
       "      <th>booking_platform</th>\n",
       "      <th>ratings_given</th>\n",
       "      <th>booking_status</th>\n",
       "      <th>revenue_generated</th>\n",
       "      <th>revenue_realized</th>\n",
       "      <th>property_name</th>\n",
       "      <th>category</th>\n",
       "      <th>city</th>\n",
       "    </tr>\n",
       "  </thead>\n",
       "  <tbody>\n",
       "    <tr>\n",
       "      <th>0</th>\n",
       "      <td>May012216558RT11</td>\n",
       "      <td>16558</td>\n",
       "      <td>2022-04-27</td>\n",
       "      <td>2022-05-01</td>\n",
       "      <td>2022-05-02</td>\n",
       "      <td>3</td>\n",
       "      <td>RT1</td>\n",
       "      <td>direct online</td>\n",
       "      <td>1.0</td>\n",
       "      <td>Checked Out</td>\n",
       "      <td>10010</td>\n",
       "      <td>10010</td>\n",
       "      <td>Atliq Grands</td>\n",
       "      <td>Luxury</td>\n",
       "      <td>Delhi</td>\n",
       "    </tr>\n",
       "    <tr>\n",
       "      <th>1</th>\n",
       "      <td>May012216558RT12</td>\n",
       "      <td>16558</td>\n",
       "      <td>2022-04-30</td>\n",
       "      <td>2022-05-01</td>\n",
       "      <td>2022-05-02</td>\n",
       "      <td>2</td>\n",
       "      <td>RT1</td>\n",
       "      <td>others</td>\n",
       "      <td>NaN</td>\n",
       "      <td>Cancelled</td>\n",
       "      <td>9100</td>\n",
       "      <td>3640</td>\n",
       "      <td>Atliq Grands</td>\n",
       "      <td>Luxury</td>\n",
       "      <td>Delhi</td>\n",
       "    </tr>\n",
       "    <tr>\n",
       "      <th>2</th>\n",
       "      <td>May012216558RT13</td>\n",
       "      <td>16558</td>\n",
       "      <td>2022-04-28</td>\n",
       "      <td>2022-05-01</td>\n",
       "      <td>2022-05-04</td>\n",
       "      <td>2</td>\n",
       "      <td>RT1</td>\n",
       "      <td>logtrip</td>\n",
       "      <td>5.0</td>\n",
       "      <td>Checked Out</td>\n",
       "      <td>9100</td>\n",
       "      <td>9100</td>\n",
       "      <td>Atliq Grands</td>\n",
       "      <td>Luxury</td>\n",
       "      <td>Delhi</td>\n",
       "    </tr>\n",
       "  </tbody>\n",
       "</table>\n",
       "</div>"
      ],
      "text/plain": [
       "         booking_id  property_id booking_date check_in_date checkout_date  \\\n",
       "0  May012216558RT11        16558   2022-04-27    2022-05-01    2022-05-02   \n",
       "1  May012216558RT12        16558   2022-04-30    2022-05-01    2022-05-02   \n",
       "2  May012216558RT13        16558   2022-04-28    2022-05-01    2022-05-04   \n",
       "\n",
       "   no_guests room_category booking_platform  ratings_given booking_status  \\\n",
       "0          3           RT1    direct online            1.0    Checked Out   \n",
       "1          2           RT1           others            NaN      Cancelled   \n",
       "2          2           RT1          logtrip            5.0    Checked Out   \n",
       "\n",
       "   revenue_generated  revenue_realized property_name category   city  \n",
       "0              10010             10010  Atliq Grands   Luxury  Delhi  \n",
       "1               9100              3640  Atliq Grands   Luxury  Delhi  \n",
       "2               9100              9100  Atliq Grands   Luxury  Delhi  "
      ]
     },
     "execution_count": 823,
     "metadata": {},
     "output_type": "execute_result"
    }
   ],
   "source": [
    "df_bookings_all = pd.merge(df_bookings, df_hotels, on=\"property_id\")\n",
    "df_bookings_all.head(3)"
   ]
  },
  {
   "cell_type": "code",
   "execution_count": 824,
   "id": "0bc5bcb5-4d26-4b28-9a8b-3f67418f4528",
   "metadata": {},
   "outputs": [
    {
     "data": {
      "text/plain": [
       "city\n",
       "Bangalore    415122840\n",
       "Delhi        289472918\n",
       "Hyderabad    325232870\n",
       "Mumbai       629391323\n",
       "Name: revenue_realized, dtype: int64"
      ]
     },
     "execution_count": 824,
     "metadata": {},
     "output_type": "execute_result"
    }
   ],
   "source": [
    "df_bookings_all.groupby(\"city\")[\"revenue_realized\"].sum()"
   ]
  },
  {
   "cell_type": "code",
   "execution_count": null,
   "id": "db696d1d-aca0-4ce0-a90f-0e0f9fea1b5a",
   "metadata": {},
   "outputs": [],
   "source": []
  },
  {
   "cell_type": "code",
   "execution_count": 825,
   "id": "3c8092b9-b6a9-4074-b080-517be839ea36",
   "metadata": {},
   "outputs": [],
   "source": [
    "#Printing month by month revenue"
   ]
  },
  {
   "cell_type": "code",
   "execution_count": 826,
   "id": "b48197af-b687-46c4-ad14-d13a4236c99d",
   "metadata": {},
   "outputs": [
    {
     "data": {
      "text/html": [
       "<div>\n",
       "<style scoped>\n",
       "    .dataframe tbody tr th:only-of-type {\n",
       "        vertical-align: middle;\n",
       "    }\n",
       "\n",
       "    .dataframe tbody tr th {\n",
       "        vertical-align: top;\n",
       "    }\n",
       "\n",
       "    .dataframe thead th {\n",
       "        text-align: right;\n",
       "    }\n",
       "</style>\n",
       "<table border=\"1\" class=\"dataframe\">\n",
       "  <thead>\n",
       "    <tr style=\"text-align: right;\">\n",
       "      <th></th>\n",
       "      <th>date</th>\n",
       "      <th>mmm yy</th>\n",
       "      <th>week no</th>\n",
       "      <th>day_type</th>\n",
       "    </tr>\n",
       "  </thead>\n",
       "  <tbody>\n",
       "    <tr>\n",
       "      <th>0</th>\n",
       "      <td>2022-05-01</td>\n",
       "      <td>May 22</td>\n",
       "      <td>W 19</td>\n",
       "      <td>weekend</td>\n",
       "    </tr>\n",
       "    <tr>\n",
       "      <th>1</th>\n",
       "      <td>2022-05-02</td>\n",
       "      <td>May 22</td>\n",
       "      <td>W 19</td>\n",
       "      <td>weekeday</td>\n",
       "    </tr>\n",
       "    <tr>\n",
       "      <th>2</th>\n",
       "      <td>2022-05-03</td>\n",
       "      <td>May 22</td>\n",
       "      <td>W 19</td>\n",
       "      <td>weekeday</td>\n",
       "    </tr>\n",
       "  </tbody>\n",
       "</table>\n",
       "</div>"
      ],
      "text/plain": [
       "        date  mmm yy week no  day_type\n",
       "0 2022-05-01  May 22    W 19   weekend\n",
       "1 2022-05-02  May 22    W 19  weekeday\n",
       "2 2022-05-03  May 22    W 19  weekeday"
      ]
     },
     "execution_count": 826,
     "metadata": {},
     "output_type": "execute_result"
    }
   ],
   "source": [
    "df_date.head(3)"
   ]
  },
  {
   "cell_type": "code",
   "execution_count": 827,
   "id": "e0a216f9-54c5-4f6f-8e18-beaa3c3b646e",
   "metadata": {},
   "outputs": [
    {
     "data": {
      "text/plain": [
       "array(['May 22', 'Jun 22', 'Jul 22'], dtype=object)"
      ]
     },
     "execution_count": 827,
     "metadata": {},
     "output_type": "execute_result"
    }
   ],
   "source": [
    "df_date[\"mmm yy\"].unique()"
   ]
  },
  {
   "cell_type": "code",
   "execution_count": 828,
   "id": "875b516a-01a4-496a-8078-8d109b1169ff",
   "metadata": {},
   "outputs": [
    {
     "data": {
      "text/html": [
       "<div>\n",
       "<style scoped>\n",
       "    .dataframe tbody tr th:only-of-type {\n",
       "        vertical-align: middle;\n",
       "    }\n",
       "\n",
       "    .dataframe tbody tr th {\n",
       "        vertical-align: top;\n",
       "    }\n",
       "\n",
       "    .dataframe thead th {\n",
       "        text-align: right;\n",
       "    }\n",
       "</style>\n",
       "<table border=\"1\" class=\"dataframe\">\n",
       "  <thead>\n",
       "    <tr style=\"text-align: right;\">\n",
       "      <th></th>\n",
       "      <th>booking_id</th>\n",
       "      <th>property_id</th>\n",
       "      <th>booking_date</th>\n",
       "      <th>check_in_date</th>\n",
       "      <th>checkout_date</th>\n",
       "      <th>no_guests</th>\n",
       "      <th>room_category</th>\n",
       "      <th>booking_platform</th>\n",
       "      <th>ratings_given</th>\n",
       "      <th>booking_status</th>\n",
       "      <th>revenue_generated</th>\n",
       "      <th>revenue_realized</th>\n",
       "      <th>property_name</th>\n",
       "      <th>category</th>\n",
       "      <th>city</th>\n",
       "    </tr>\n",
       "  </thead>\n",
       "  <tbody>\n",
       "    <tr>\n",
       "      <th>0</th>\n",
       "      <td>May012216558RT11</td>\n",
       "      <td>16558</td>\n",
       "      <td>2022-04-27</td>\n",
       "      <td>2022-05-01</td>\n",
       "      <td>2022-05-02</td>\n",
       "      <td>3</td>\n",
       "      <td>RT1</td>\n",
       "      <td>direct online</td>\n",
       "      <td>1.0</td>\n",
       "      <td>Checked Out</td>\n",
       "      <td>10010</td>\n",
       "      <td>10010</td>\n",
       "      <td>Atliq Grands</td>\n",
       "      <td>Luxury</td>\n",
       "      <td>Delhi</td>\n",
       "    </tr>\n",
       "    <tr>\n",
       "      <th>1</th>\n",
       "      <td>May012216558RT12</td>\n",
       "      <td>16558</td>\n",
       "      <td>2022-04-30</td>\n",
       "      <td>2022-05-01</td>\n",
       "      <td>2022-05-02</td>\n",
       "      <td>2</td>\n",
       "      <td>RT1</td>\n",
       "      <td>others</td>\n",
       "      <td>NaN</td>\n",
       "      <td>Cancelled</td>\n",
       "      <td>9100</td>\n",
       "      <td>3640</td>\n",
       "      <td>Atliq Grands</td>\n",
       "      <td>Luxury</td>\n",
       "      <td>Delhi</td>\n",
       "    </tr>\n",
       "    <tr>\n",
       "      <th>2</th>\n",
       "      <td>May012216558RT13</td>\n",
       "      <td>16558</td>\n",
       "      <td>2022-04-28</td>\n",
       "      <td>2022-05-01</td>\n",
       "      <td>2022-05-04</td>\n",
       "      <td>2</td>\n",
       "      <td>RT1</td>\n",
       "      <td>logtrip</td>\n",
       "      <td>5.0</td>\n",
       "      <td>Checked Out</td>\n",
       "      <td>9100</td>\n",
       "      <td>9100</td>\n",
       "      <td>Atliq Grands</td>\n",
       "      <td>Luxury</td>\n",
       "      <td>Delhi</td>\n",
       "    </tr>\n",
       "  </tbody>\n",
       "</table>\n",
       "</div>"
      ],
      "text/plain": [
       "         booking_id  property_id booking_date check_in_date checkout_date  \\\n",
       "0  May012216558RT11        16558   2022-04-27    2022-05-01    2022-05-02   \n",
       "1  May012216558RT12        16558   2022-04-30    2022-05-01    2022-05-02   \n",
       "2  May012216558RT13        16558   2022-04-28    2022-05-01    2022-05-04   \n",
       "\n",
       "   no_guests room_category booking_platform  ratings_given booking_status  \\\n",
       "0          3           RT1    direct online            1.0    Checked Out   \n",
       "1          2           RT1           others            NaN      Cancelled   \n",
       "2          2           RT1          logtrip            5.0    Checked Out   \n",
       "\n",
       "   revenue_generated  revenue_realized property_name category   city  \n",
       "0              10010             10010  Atliq Grands   Luxury  Delhi  \n",
       "1               9100              3640  Atliq Grands   Luxury  Delhi  \n",
       "2               9100              9100  Atliq Grands   Luxury  Delhi  "
      ]
     },
     "execution_count": 828,
     "metadata": {},
     "output_type": "execute_result"
    }
   ],
   "source": [
    "df_bookings_all.head(3)"
   ]
  },
  {
   "cell_type": "code",
   "execution_count": 829,
   "id": "50644a09-7027-48dd-b250-cda8fc755bf7",
   "metadata": {},
   "outputs": [
    {
     "name": "stdout",
     "output_type": "stream",
     "text": [
      "<class 'pandas.core.frame.DataFrame'>\n",
      "RangeIndex: 92 entries, 0 to 91\n",
      "Data columns (total 4 columns):\n",
      " #   Column    Non-Null Count  Dtype         \n",
      "---  ------    --------------  -----         \n",
      " 0   date      92 non-null     datetime64[ns]\n",
      " 1   mmm yy    92 non-null     object        \n",
      " 2   week no   92 non-null     object        \n",
      " 3   day_type  92 non-null     object        \n",
      "dtypes: datetime64[ns](1), object(3)\n",
      "memory usage: 3.0+ KB\n"
     ]
    }
   ],
   "source": [
    "df_date.info()"
   ]
  },
  {
   "cell_type": "code",
   "execution_count": 830,
   "id": "25349b4d-82e7-4e91-b6c1-2002ffc24f5e",
   "metadata": {},
   "outputs": [
    {
     "data": {
      "text/html": [
       "<div>\n",
       "<style scoped>\n",
       "    .dataframe tbody tr th:only-of-type {\n",
       "        vertical-align: middle;\n",
       "    }\n",
       "\n",
       "    .dataframe tbody tr th {\n",
       "        vertical-align: top;\n",
       "    }\n",
       "\n",
       "    .dataframe thead th {\n",
       "        text-align: right;\n",
       "    }\n",
       "</style>\n",
       "<table border=\"1\" class=\"dataframe\">\n",
       "  <thead>\n",
       "    <tr style=\"text-align: right;\">\n",
       "      <th></th>\n",
       "      <th>date</th>\n",
       "      <th>mmm yy</th>\n",
       "      <th>week no</th>\n",
       "      <th>day_type</th>\n",
       "    </tr>\n",
       "  </thead>\n",
       "  <tbody>\n",
       "    <tr>\n",
       "      <th>0</th>\n",
       "      <td>2022-05-01</td>\n",
       "      <td>May 22</td>\n",
       "      <td>W 19</td>\n",
       "      <td>weekend</td>\n",
       "    </tr>\n",
       "    <tr>\n",
       "      <th>1</th>\n",
       "      <td>2022-05-02</td>\n",
       "      <td>May 22</td>\n",
       "      <td>W 19</td>\n",
       "      <td>weekeday</td>\n",
       "    </tr>\n",
       "    <tr>\n",
       "      <th>2</th>\n",
       "      <td>2022-05-03</td>\n",
       "      <td>May 22</td>\n",
       "      <td>W 19</td>\n",
       "      <td>weekeday</td>\n",
       "    </tr>\n",
       "  </tbody>\n",
       "</table>\n",
       "</div>"
      ],
      "text/plain": [
       "        date  mmm yy week no  day_type\n",
       "0 2022-05-01  May 22    W 19   weekend\n",
       "1 2022-05-02  May 22    W 19  weekeday\n",
       "2 2022-05-03  May 22    W 19  weekeday"
      ]
     },
     "execution_count": 830,
     "metadata": {},
     "output_type": "execute_result"
    }
   ],
   "source": [
    "df_date[\"date\"] = pd.to_datetime(df_date[\"date\"])\n",
    "df_date.head(3)"
   ]
  },
  {
   "cell_type": "code",
   "execution_count": 831,
   "id": "aaadd0dd-d110-4ea7-b877-4d5ae84a71de",
   "metadata": {},
   "outputs": [
    {
     "name": "stdout",
     "output_type": "stream",
     "text": [
      "<class 'pandas.core.frame.DataFrame'>\n",
      "RangeIndex: 133070 entries, 0 to 133069\n",
      "Data columns (total 15 columns):\n",
      " #   Column             Non-Null Count   Dtype  \n",
      "---  ------             --------------   -----  \n",
      " 0   booking_id         133070 non-null  object \n",
      " 1   property_id        133070 non-null  int64  \n",
      " 2   booking_date       133070 non-null  object \n",
      " 3   check_in_date      133070 non-null  object \n",
      " 4   checkout_date      133070 non-null  object \n",
      " 5   no_guests          133070 non-null  int64  \n",
      " 6   room_category      133070 non-null  object \n",
      " 7   booking_platform   133070 non-null  object \n",
      " 8   ratings_given      56016 non-null   float64\n",
      " 9   booking_status     133070 non-null  object \n",
      " 10  revenue_generated  133070 non-null  int64  \n",
      " 11  revenue_realized   133070 non-null  int64  \n",
      " 12  property_name      133070 non-null  object \n",
      " 13  category           133070 non-null  object \n",
      " 14  city               133070 non-null  object \n",
      "dtypes: float64(1), int64(4), object(10)\n",
      "memory usage: 15.2+ MB\n"
     ]
    }
   ],
   "source": [
    "df_bookings_all.info()"
   ]
  },
  {
   "cell_type": "code",
   "execution_count": 832,
   "id": "6886095a-aa3d-4cb0-9612-b624b6e5d2ce",
   "metadata": {},
   "outputs": [
    {
     "data": {
      "text/html": [
       "<div>\n",
       "<style scoped>\n",
       "    .dataframe tbody tr th:only-of-type {\n",
       "        vertical-align: middle;\n",
       "    }\n",
       "\n",
       "    .dataframe tbody tr th {\n",
       "        vertical-align: top;\n",
       "    }\n",
       "\n",
       "    .dataframe thead th {\n",
       "        text-align: right;\n",
       "    }\n",
       "</style>\n",
       "<table border=\"1\" class=\"dataframe\">\n",
       "  <thead>\n",
       "    <tr style=\"text-align: right;\">\n",
       "      <th></th>\n",
       "      <th>booking_id</th>\n",
       "      <th>property_id</th>\n",
       "      <th>booking_date</th>\n",
       "      <th>check_in_date</th>\n",
       "      <th>checkout_date</th>\n",
       "      <th>no_guests</th>\n",
       "      <th>room_category</th>\n",
       "      <th>booking_platform</th>\n",
       "      <th>ratings_given</th>\n",
       "      <th>booking_status</th>\n",
       "      <th>revenue_generated</th>\n",
       "      <th>revenue_realized</th>\n",
       "      <th>property_name</th>\n",
       "      <th>category</th>\n",
       "      <th>city</th>\n",
       "    </tr>\n",
       "  </thead>\n",
       "  <tbody>\n",
       "    <tr>\n",
       "      <th>0</th>\n",
       "      <td>May012216558RT11</td>\n",
       "      <td>16558</td>\n",
       "      <td>2022-04-27</td>\n",
       "      <td>2022-05-01</td>\n",
       "      <td>2022-05-02</td>\n",
       "      <td>3</td>\n",
       "      <td>RT1</td>\n",
       "      <td>direct online</td>\n",
       "      <td>1.0</td>\n",
       "      <td>Checked Out</td>\n",
       "      <td>10010</td>\n",
       "      <td>10010</td>\n",
       "      <td>Atliq Grands</td>\n",
       "      <td>Luxury</td>\n",
       "      <td>Delhi</td>\n",
       "    </tr>\n",
       "    <tr>\n",
       "      <th>1</th>\n",
       "      <td>May012216558RT12</td>\n",
       "      <td>16558</td>\n",
       "      <td>2022-04-30</td>\n",
       "      <td>2022-05-01</td>\n",
       "      <td>2022-05-02</td>\n",
       "      <td>2</td>\n",
       "      <td>RT1</td>\n",
       "      <td>others</td>\n",
       "      <td>NaN</td>\n",
       "      <td>Cancelled</td>\n",
       "      <td>9100</td>\n",
       "      <td>3640</td>\n",
       "      <td>Atliq Grands</td>\n",
       "      <td>Luxury</td>\n",
       "      <td>Delhi</td>\n",
       "    </tr>\n",
       "    <tr>\n",
       "      <th>2</th>\n",
       "      <td>May012216558RT13</td>\n",
       "      <td>16558</td>\n",
       "      <td>2022-04-28</td>\n",
       "      <td>2022-05-01</td>\n",
       "      <td>2022-05-04</td>\n",
       "      <td>2</td>\n",
       "      <td>RT1</td>\n",
       "      <td>logtrip</td>\n",
       "      <td>5.0</td>\n",
       "      <td>Checked Out</td>\n",
       "      <td>9100</td>\n",
       "      <td>9100</td>\n",
       "      <td>Atliq Grands</td>\n",
       "      <td>Luxury</td>\n",
       "      <td>Delhi</td>\n",
       "    </tr>\n",
       "    <tr>\n",
       "      <th>3</th>\n",
       "      <td>May012216558RT14</td>\n",
       "      <td>16558</td>\n",
       "      <td>2022-04-28</td>\n",
       "      <td>2022-05-01</td>\n",
       "      <td>2022-05-02</td>\n",
       "      <td>2</td>\n",
       "      <td>RT1</td>\n",
       "      <td>others</td>\n",
       "      <td>NaN</td>\n",
       "      <td>Cancelled</td>\n",
       "      <td>9100</td>\n",
       "      <td>3640</td>\n",
       "      <td>Atliq Grands</td>\n",
       "      <td>Luxury</td>\n",
       "      <td>Delhi</td>\n",
       "    </tr>\n",
       "  </tbody>\n",
       "</table>\n",
       "</div>"
      ],
      "text/plain": [
       "         booking_id  property_id booking_date check_in_date checkout_date  \\\n",
       "0  May012216558RT11        16558   2022-04-27    2022-05-01    2022-05-02   \n",
       "1  May012216558RT12        16558   2022-04-30    2022-05-01    2022-05-02   \n",
       "2  May012216558RT13        16558   2022-04-28    2022-05-01    2022-05-04   \n",
       "3  May012216558RT14        16558   2022-04-28    2022-05-01    2022-05-02   \n",
       "\n",
       "   no_guests room_category booking_platform  ratings_given booking_status  \\\n",
       "0          3           RT1    direct online            1.0    Checked Out   \n",
       "1          2           RT1           others            NaN      Cancelled   \n",
       "2          2           RT1          logtrip            5.0    Checked Out   \n",
       "3          2           RT1           others            NaN      Cancelled   \n",
       "\n",
       "   revenue_generated  revenue_realized property_name category   city  \n",
       "0              10010             10010  Atliq Grands   Luxury  Delhi  \n",
       "1               9100              3640  Atliq Grands   Luxury  Delhi  \n",
       "2               9100              9100  Atliq Grands   Luxury  Delhi  \n",
       "3               9100              3640  Atliq Grands   Luxury  Delhi  "
      ]
     },
     "execution_count": 832,
     "metadata": {},
     "output_type": "execute_result"
    }
   ],
   "source": [
    "df_bookings_all[\"check_in_date\"] = pd.to_datetime(df_bookings_all[\"check_in_date\"])\n",
    "df_bookings_all.head(4)"
   ]
  },
  {
   "cell_type": "code",
   "execution_count": 833,
   "id": "fa54d3b0-3d26-42e5-938b-25b97ccc865f",
   "metadata": {},
   "outputs": [
    {
     "data": {
      "text/html": [
       "<div>\n",
       "<style scoped>\n",
       "    .dataframe tbody tr th:only-of-type {\n",
       "        vertical-align: middle;\n",
       "    }\n",
       "\n",
       "    .dataframe tbody tr th {\n",
       "        vertical-align: top;\n",
       "    }\n",
       "\n",
       "    .dataframe thead th {\n",
       "        text-align: right;\n",
       "    }\n",
       "</style>\n",
       "<table border=\"1\" class=\"dataframe\">\n",
       "  <thead>\n",
       "    <tr style=\"text-align: right;\">\n",
       "      <th></th>\n",
       "      <th>booking_id</th>\n",
       "      <th>property_id</th>\n",
       "      <th>booking_date</th>\n",
       "      <th>check_in_date</th>\n",
       "      <th>checkout_date</th>\n",
       "      <th>no_guests</th>\n",
       "      <th>room_category</th>\n",
       "      <th>booking_platform</th>\n",
       "      <th>ratings_given</th>\n",
       "      <th>booking_status</th>\n",
       "      <th>revenue_generated</th>\n",
       "      <th>revenue_realized</th>\n",
       "      <th>property_name</th>\n",
       "      <th>category</th>\n",
       "      <th>city</th>\n",
       "      <th>date</th>\n",
       "      <th>mmm yy</th>\n",
       "      <th>week no</th>\n",
       "      <th>day_type</th>\n",
       "    </tr>\n",
       "  </thead>\n",
       "  <tbody>\n",
       "    <tr>\n",
       "      <th>0</th>\n",
       "      <td>May012216558RT11</td>\n",
       "      <td>16558</td>\n",
       "      <td>2022-04-27</td>\n",
       "      <td>2022-05-01</td>\n",
       "      <td>2022-05-02</td>\n",
       "      <td>3</td>\n",
       "      <td>RT1</td>\n",
       "      <td>direct online</td>\n",
       "      <td>1.0</td>\n",
       "      <td>Checked Out</td>\n",
       "      <td>10010</td>\n",
       "      <td>10010</td>\n",
       "      <td>Atliq Grands</td>\n",
       "      <td>Luxury</td>\n",
       "      <td>Delhi</td>\n",
       "      <td>2022-05-01</td>\n",
       "      <td>May 22</td>\n",
       "      <td>W 19</td>\n",
       "      <td>weekend</td>\n",
       "    </tr>\n",
       "    <tr>\n",
       "      <th>1</th>\n",
       "      <td>May012216558RT12</td>\n",
       "      <td>16558</td>\n",
       "      <td>2022-04-30</td>\n",
       "      <td>2022-05-01</td>\n",
       "      <td>2022-05-02</td>\n",
       "      <td>2</td>\n",
       "      <td>RT1</td>\n",
       "      <td>others</td>\n",
       "      <td>NaN</td>\n",
       "      <td>Cancelled</td>\n",
       "      <td>9100</td>\n",
       "      <td>3640</td>\n",
       "      <td>Atliq Grands</td>\n",
       "      <td>Luxury</td>\n",
       "      <td>Delhi</td>\n",
       "      <td>2022-05-01</td>\n",
       "      <td>May 22</td>\n",
       "      <td>W 19</td>\n",
       "      <td>weekend</td>\n",
       "    </tr>\n",
       "    <tr>\n",
       "      <th>2</th>\n",
       "      <td>May012216558RT13</td>\n",
       "      <td>16558</td>\n",
       "      <td>2022-04-28</td>\n",
       "      <td>2022-05-01</td>\n",
       "      <td>2022-05-04</td>\n",
       "      <td>2</td>\n",
       "      <td>RT1</td>\n",
       "      <td>logtrip</td>\n",
       "      <td>5.0</td>\n",
       "      <td>Checked Out</td>\n",
       "      <td>9100</td>\n",
       "      <td>9100</td>\n",
       "      <td>Atliq Grands</td>\n",
       "      <td>Luxury</td>\n",
       "      <td>Delhi</td>\n",
       "      <td>2022-05-01</td>\n",
       "      <td>May 22</td>\n",
       "      <td>W 19</td>\n",
       "      <td>weekend</td>\n",
       "    </tr>\n",
       "  </tbody>\n",
       "</table>\n",
       "</div>"
      ],
      "text/plain": [
       "         booking_id  property_id booking_date check_in_date checkout_date  \\\n",
       "0  May012216558RT11        16558   2022-04-27    2022-05-01    2022-05-02   \n",
       "1  May012216558RT12        16558   2022-04-30    2022-05-01    2022-05-02   \n",
       "2  May012216558RT13        16558   2022-04-28    2022-05-01    2022-05-04   \n",
       "\n",
       "   no_guests room_category booking_platform  ratings_given booking_status  \\\n",
       "0          3           RT1    direct online            1.0    Checked Out   \n",
       "1          2           RT1           others            NaN      Cancelled   \n",
       "2          2           RT1          logtrip            5.0    Checked Out   \n",
       "\n",
       "   revenue_generated  revenue_realized property_name category   city  \\\n",
       "0              10010             10010  Atliq Grands   Luxury  Delhi   \n",
       "1               9100              3640  Atliq Grands   Luxury  Delhi   \n",
       "2               9100              9100  Atliq Grands   Luxury  Delhi   \n",
       "\n",
       "        date  mmm yy week no day_type  \n",
       "0 2022-05-01  May 22    W 19  weekend  \n",
       "1 2022-05-01  May 22    W 19  weekend  \n",
       "2 2022-05-01  May 22    W 19  weekend  "
      ]
     },
     "execution_count": 833,
     "metadata": {},
     "output_type": "execute_result"
    }
   ],
   "source": [
    "df_bookings_all = pd.merge(df_bookings_all, df_date, left_on=\"check_in_date\", right_on=\"date\")\n",
    "df_bookings_all.head(3)"
   ]
  },
  {
   "cell_type": "code",
   "execution_count": 834,
   "id": "7c68b0b9-6ae1-4985-98d8-9b9010f36d31",
   "metadata": {},
   "outputs": [
    {
     "data": {
      "text/plain": [
       "mmm yy\n",
       "Jul 22    556460174\n",
       "Jun 22    537219271\n",
       "May 22    565540506\n",
       "Name: revenue_realized, dtype: int64"
      ]
     },
     "execution_count": 834,
     "metadata": {},
     "output_type": "execute_result"
    }
   ],
   "source": [
    "df_bookings_all.groupby(\"mmm yy\")[\"revenue_realized\"].sum()"
   ]
  },
  {
   "cell_type": "code",
   "execution_count": null,
   "id": "6f85e146-0586-49a3-92e8-a82dedaef240",
   "metadata": {},
   "outputs": [],
   "source": []
  },
  {
   "cell_type": "code",
   "execution_count": 835,
   "id": "b2d123fc-821c-45b9-89c6-a5b5677d4a7c",
   "metadata": {},
   "outputs": [],
   "source": [
    "#Printing revenue realized per hotel type"
   ]
  },
  {
   "cell_type": "code",
   "execution_count": 836,
   "id": "b0b5086d-e3a4-4edd-a23f-b687b28bf8ac",
   "metadata": {},
   "outputs": [
    {
     "data": {
      "text/plain": [
       "array(['Atliq Grands', 'Atliq Exotica', 'Atliq City', 'Atliq Blu',\n",
       "       'Atliq Bay', 'Atliq Palace', 'Atliq Seasons'], dtype=object)"
      ]
     },
     "execution_count": 836,
     "metadata": {},
     "output_type": "execute_result"
    }
   ],
   "source": [
    "df_bookings_all.property_name.unique()"
   ]
  },
  {
   "cell_type": "code",
   "execution_count": 837,
   "id": "8dc7b58f-2fe2-44c5-a7e1-0c99fb3edc5d",
   "metadata": {},
   "outputs": [
    {
     "data": {
      "text/plain": [
       "property_name\n",
       "Atliq Seasons     62430375\n",
       "Atliq Grands     207800708\n",
       "Atliq Bay        255735290\n",
       "Atliq Blu        256643260\n",
       "Atliq City       279554213\n",
       "Atliq Palace     294193161\n",
       "Atliq Exotica    302862944\n",
       "Name: revenue_realized, dtype: int64"
      ]
     },
     "execution_count": 837,
     "metadata": {},
     "output_type": "execute_result"
    }
   ],
   "source": [
    "df_bookings_all.groupby(\"property_name\")[\"revenue_realized\"].sum().round(2).sort_values()"
   ]
  },
  {
   "cell_type": "code",
   "execution_count": null,
   "id": "a4d5cc2f-395c-440d-b131-b7878568467a",
   "metadata": {},
   "outputs": [],
   "source": []
  },
  {
   "cell_type": "code",
   "execution_count": 838,
   "id": "dce03a11-34fc-4009-a852-06639ff070b1",
   "metadata": {},
   "outputs": [],
   "source": [
    "#printing average rating per city"
   ]
  },
  {
   "cell_type": "code",
   "execution_count": 839,
   "id": "c5f0831f-30fb-4af0-a18a-f92a2c7d4c05",
   "metadata": {},
   "outputs": [
    {
     "data": {
      "text/plain": [
       "city\n",
       "Bangalore    3.41\n",
       "Delhi        3.78\n",
       "Hyderabad    3.66\n",
       "Mumbai       3.65\n",
       "Name: ratings_given, dtype: float64"
      ]
     },
     "execution_count": 839,
     "metadata": {},
     "output_type": "execute_result"
    }
   ],
   "source": [
    "df_bookings_all.groupby(\"city\")[\"ratings_given\"].mean().round(2)"
   ]
  },
  {
   "cell_type": "code",
   "execution_count": null,
   "id": "d247ed6e-07fd-4f57-8660-7f565aabe027",
   "metadata": {},
   "outputs": [],
   "source": []
  },
  {
   "cell_type": "code",
   "execution_count": 840,
   "id": "dfbff036-906c-49d0-8df2-06b90e658e51",
   "metadata": {},
   "outputs": [],
   "source": [
    "#creating a pie chart of revenue realized per booking platform"
   ]
  },
  {
   "cell_type": "code",
   "execution_count": 841,
   "id": "131bec8f-89dc-4bea-a806-207f41f975df",
   "metadata": {},
   "outputs": [
    {
     "data": {
      "text/plain": [
       "<Axes: ylabel='revenue_realized'>"
      ]
     },
     "execution_count": 841,
     "metadata": {},
     "output_type": "execute_result"
    },
    {
     "data": {
      "image/png": "[encoded data removed]",
      "text/plain": [
       "<Figure size 640x480 with 1 Axes>"
      ]
     },
     "metadata": {},
     "output_type": "display_data"
    }
   ],
   "source": [
    "df_bookings_all.groupby(\"booking_platform\")[\"revenue_realized\"].sum().plot(kind=\"pie\")"
   ]
  },
  {
   "cell_type": "code",
   "execution_count": 842,
   "id": "b4a66089-1542-407b-a573-6bf9a689af26",
   "metadata": {},
   "outputs": [],
   "source": [
    "df2=pd.read_csv('Datasets/fact_bookings.csv')"
   ]
  },
  {
   "cell_type": "code",
   "execution_count": 843,
   "id": "fb3fd712-af71-43bd-90f0-d3026b5113fd",
   "metadata": {},
   "outputs": [
    {
     "name": "stdout",
     "output_type": "stream",
     "text": [
      "Index(['booking_id', 'property_id', 'booking_date', 'check_in_date',\n",
      "       'checkout_date', 'no_guests', 'room_category', 'booking_platform',\n",
      "       'ratings_given', 'booking_status', 'revenue_generated',\n",
      "       'revenue_realized'],\n",
      "      dtype='object')\n"
     ]
    }
   ],
   "source": [
    "print(df2.columns)"
   ]
  },
  {
   "cell_type": "code",
   "execution_count": 844,
   "id": "84054b22-9c9f-4f16-be14-a7482167f450",
   "metadata": {},
   "outputs": [],
   "source": [
    "#Trends"
   ]
  },
  {
   "cell_type": "code",
   "execution_count": 845,
   "id": "5a245c75-b8e3-4bd6-8ae5-4833c16fcc46",
   "metadata": {},
   "outputs": [],
   "source": [
    "#Weekly trends"
   ]
  },
  {
   "cell_type": "code",
   "execution_count": 849,
   "id": "8bbbbfc9-24b3-4ed8-a5c6-b0ea18097c9d",
   "metadata": {},
   "outputs": [
    {
     "data": {
      "image/png": "[encoded data removed]",
      "text/plain": [
       "<Figure size 1000x500 with 4 Axes>"
      ]
     },
     "metadata": {},
     "output_type": "display_data"
    }
   ],
   "source": [
    "df2['check_in_date'] = pd.to_datetime(df2['check_in_date'])\n",
    "\n",
    "df2['week_number'] = df2['check_in_date'].dt.isocalendar().week\n",
    "\n",
    "weekly_data = df2.groupby('week_number').agg(\n",
    "    total_bookings=('booking_status', 'count'),\n",
    "    total_revenue_generated=('revenue_generated', 'sum'),\n",
    "    total_revenue_realized=('revenue_realized', 'sum'),\n",
    "    cancellation_rate=('booking_status', lambda x: (x == 'Cancelled').mean() * 100)\n",
    ")\n",
    "\n",
    "weekly_data['avg_revenue_per_booking'] = weekly_data['total_revenue_generated'] / weekly_data['total_bookings']\n",
    "\n",
    "# Visualize trends\n",
    "weekly_data[['total_bookings', 'total_revenue_generated', 'avg_revenue_per_booking', 'cancellation_rate']].plot(subplots=True, figsize=(10, 5))\n",
    "plt.show()"
   ]
  },
  {
   "cell_type": "code",
   "execution_count": 847,
   "id": "bbf2ba9c-9807-4c95-a789-faff6b0cea88",
   "metadata": {},
   "outputs": [
    {
     "data": {
      "image/png": "[encoded data removed]",
      "text/plain": [
       "<Figure size 640x480 with 4 Axes>"
      ]
     },
     "metadata": {},
     "output_type": "display_data"
    }
   ],
   "source": [
    "# Monthly trends\n",
    "df2['month'] = pd.to_datetime(df2['check_in_date']).dt.month\n",
    "monthly_trends = df2.groupby('month').agg({'revenue_generated': 'sum', 'booking_status': 'count'})\n",
    "monthly_trends['avg_revenue'] = monthly_trends['revenue_generated'] / monthly_trends['booking_status']\n",
    "monthly_trends['cancellation_rate'] = (df2[df2['booking_status'] == 'Cancelled'].groupby('month').size() / monthly_trends['booking_status']) * 100\n",
    "monthly_trends.plot(kind='bar', subplots=True)\n",
    "plt.show()"
   ]
  },
  {
   "cell_type": "code",
   "execution_count": null,
   "id": "6bda6fa4-93a7-4b77-8829-c1ba4646ab04",
   "metadata": {},
   "outputs": [],
   "source": []
  },
  {
   "cell_type": "code",
   "execution_count": 848,
   "id": "209f7b04-aeaa-4553-a3f1-a2fba88097d8",
   "metadata": {},
   "outputs": [
    {
     "data": {
      "image/png": "[encoded data removed]",
      "text/plain": [
       "<Figure size 1200x600 with 1 Axes>"
      ]
     },
     "metadata": {},
     "output_type": "display_data"
    }
   ],
   "source": [
    "df2['check_in_date'] = pd.to_datetime(df2['check_in_date'])\n",
    "df2['week_number'] = df2['check_in_date'].dt.isocalendar().week\n",
    "weekly_occupancy = df_agg_bookings.groupby('week_number')['occ_pct'].mean()\n",
    "\n",
    "# Create a line plot\n",
    "plt.figure(figsize=(12, 6))\n",
    "plt.plot(weekly_occupancy.index, weekly_occupancy.values)\n",
    "plt.title('Weekly Occupancy Percentage')\n",
    "plt.xlabel('Week Number')\n",
    "plt.ylabel('Occupancy Percentage')\n",
    "plt.grid(True)\n",
    "plt.show()"
   ]
  },
  {
   "cell_type": "code",
   "execution_count": null,
   "id": "368cd94f-5c0d-4328-b29a-80470c0a0a2f",
   "metadata": {},
   "outputs": [],
   "source": []
  }
 ],
 "metadata": {
  "kernelspec": {
   "display_name": "Python 3 (ipykernel)",
   "language": "python",
   "name": "python3"
  },
  "language_info": {
   "codemirror_mode": {
    "name": "ipython",
    "version": 3
   },
   "file_extension": ".py",
   "mimetype": "text/x-python",
   "name": "python",
   "nbconvert_exporter": "python",
   "pygments_lexer": "ipython3",
   "version": "3.12.4"
  }
 },
 "nbformat": 4,
 "nbformat_minor": 5
}
